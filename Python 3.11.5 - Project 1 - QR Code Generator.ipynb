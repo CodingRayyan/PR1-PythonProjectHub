{
  "cells": [
    {
      "cell_type": "markdown",
      "source": [
        "# **Project 1:**\n",
        "\n",
        "# **Converting a Link Into It's QR Code Using Python3 (3.11.5) Libraries:**\n",
        "\n",
        "| **Prepared by:** | Rayyan Ahmed.\n",
        "|----------|----------------------------------------------------|\n",
        "| **Date:** | 6th Aug, 2024"
      ],
      "metadata": {
        "id": "3846f019"
      },
      "id": "3846f019"
    },
    {
      "cell_type": "markdown",
      "source": [
        "### **Version:**\n"
      ],
      "metadata": {
        "id": "Aq7gzj0qEA5g"
      },
      "id": "Aq7gzj0qEA5g"
    },
    {
      "cell_type": "code",
      "source": [
        "import sys\n",
        "sys.version\n"
      ],
      "metadata": {
        "id": "pNc1zEYGEBuw",
        "outputId": "c78e8c6a-fe24-4d98-ee0b-7d2474aeb991",
        "colab": {
          "base_uri": "https://localhost:8080/",
          "height": 35
        }
      },
      "id": "pNc1zEYGEBuw",
      "execution_count": 2,
      "outputs": [
        {
          "output_type": "execute_result",
          "data": {
            "text/plain": [
              "'3.10.12 (main, Jul 29 2024, 16:56:48) [GCC 11.4.0]'"
            ],
            "application/vnd.google.colaboratory.intrinsic+json": {
              "type": "string"
            }
          },
          "metadata": {},
          "execution_count": 2
        }
      ]
    },
    {
      "cell_type": "markdown",
      "source": [
        "\n",
        "### **Installation:**\n"
      ],
      "metadata": {
        "id": "QHzUXTd7Cv2O"
      },
      "id": "QHzUXTd7Cv2O"
    },
    {
      "cell_type": "code",
      "source": [
        "pip install qrcode[pil]\n"
      ],
      "metadata": {
        "id": "Kf1z4eJ3DmMB",
        "outputId": "487ee630-cdae-421b-a0f1-2f731a032621",
        "colab": {
          "base_uri": "https://localhost:8080/"
        }
      },
      "id": "Kf1z4eJ3DmMB",
      "execution_count": 1,
      "outputs": [
        {
          "output_type": "stream",
          "name": "stdout",
          "text": [
            "Collecting qrcode[pil]\n",
            "  Downloading qrcode-7.4.2-py3-none-any.whl.metadata (17 kB)\n",
            "Requirement already satisfied: typing-extensions in /usr/local/lib/python3.10/dist-packages (from qrcode[pil]) (4.12.2)\n",
            "Collecting pypng (from qrcode[pil])\n",
            "  Downloading pypng-0.20220715.0-py3-none-any.whl.metadata (13 kB)\n",
            "Requirement already satisfied: pillow>=9.1.0 in /usr/local/lib/python3.10/dist-packages (from qrcode[pil]) (9.4.0)\n",
            "Downloading pypng-0.20220715.0-py3-none-any.whl (58 kB)\n",
            "\u001b[2K   \u001b[90m━━━━━━━━━━━━━━━━━━━━━━━━━━━━━━━━━━━━━━━━\u001b[0m \u001b[32m58.1/58.1 kB\u001b[0m \u001b[31m721.1 kB/s\u001b[0m eta \u001b[36m0:00:00\u001b[0m\n",
            "\u001b[?25hDownloading qrcode-7.4.2-py3-none-any.whl (46 kB)\n",
            "\u001b[2K   \u001b[90m━━━━━━━━━━━━━━━━━━━━━━━━━━━━━━━━━━━━━━━━\u001b[0m \u001b[32m46.2/46.2 kB\u001b[0m \u001b[31m1.8 MB/s\u001b[0m eta \u001b[36m0:00:00\u001b[0m\n",
            "\u001b[?25hInstalling collected packages: pypng, qrcode\n",
            "Successfully installed pypng-0.20220715.0 qrcode-7.4.2\n"
          ]
        }
      ]
    },
    {
      "cell_type": "markdown",
      "source": [
        "### **Basic Code**:"
      ],
      "metadata": {
        "id": "_luW2KReD_S0"
      },
      "id": "_luW2KReD_S0"
    },
    {
      "cell_type": "code",
      "source": [
        "import qrcode"
      ],
      "metadata": {
        "id": "J-PUY2tEEpjl"
      },
      "id": "J-PUY2tEEpjl",
      "execution_count": 6,
      "outputs": []
    },
    {
      "cell_type": "code",
      "source": [
        "import qrcode\n",
        "from IPython.display import Image, display\n",
        "\n",
        "# Create a QRCode object\n",
        "qr = qrcode.QRCode(version=15, box_size=10, border=5)\n",
        "\n",
        "# Data to encode in the QR code\n",
        "data = 'https://www.youtube.com/watch?v=unFF09PoGkA'\n",
        "\n",
        "# Add data to the QR code\n",
        "qr.add_data(data)\n",
        "qr.make(fit=True)\n",
        "\n",
        "# Generate the QR code image\n",
        "img = qr.make_image(fill=\"black\", back_color=\"white\")\n",
        "\n",
        "# Save the QR code image to a file\n",
        "img.save('text.png')\n",
        "\n",
        "# Display the image in Colab\n",
        "display(Image('text.png'))\n"
      ],
      "metadata": {
        "id": "wrH8qpz1E-zw",
        "outputId": "1b79257c-adbb-4b70-855c-fade9e00544a",
        "colab": {
          "base_uri": "https://localhost:8080/",
          "height": 887
        }
      },
      "id": "wrH8qpz1E-zw",
      "execution_count": 11,
      "outputs": [
        {
          "output_type": "display_data",
          "data": {
            "image/png": "[encoded data removed]",
            "text/plain": [
              "<IPython.core.display.Image object>"
            ]
          },
          "metadata": {}
        }
      ]
    },
    {
      "cell_type": "markdown",
      "source": [
        "### **QRCode Generator Program:**\n"
      ],
      "metadata": {
        "id": "ZyrSU5CjGMXB"
      },
      "id": "ZyrSU5CjGMXB"
    },
    {
      "cell_type": "code",
      "source": [
        "import qrcode\n",
        "from IPython.display import Image, display\n",
        "\n",
        "# Welcome message and password prompt\n",
        "line = ' Welcome to \"Python3 Based QR Code Generator\" '\n",
        "print('-' * 41 + line + '-' * 40)\n",
        "print('\\n' + '\\t\\t\\t\\t\\t' + '-' * 10 + ' Prepared by \"Rayyan Ahmed\" ' + '-' * 10 + '\\t\\t\\t\\t')\n",
        "\n",
        "password = 'Free Palestine'\n",
        "pass_ = input('\\nEnter your password: ')\n",
        "\n",
        "if pass_ == password:\n",
        "\n",
        "    try:\n",
        "        print('Access Granted!\\nMost welcome to Program!')\n",
        "        # Get version input and validate it\n",
        "        version_ = int(input('\\nEnter the version (1-40): '))\n",
        "\n",
        "        if 1 <= version_ <= 40:\n",
        "\n",
        "            # Get box size input and validate it\n",
        "            bsize = int(input('Enter box size (1-20): '))\n",
        "\n",
        "            if 1 <= bsize <= 20:\n",
        "\n",
        "                # Get border input and validate it\n",
        "                border_ = int(input('\\nEnter border (qr code standard is 4): '))\n",
        "\n",
        "                if border_ > 0:\n",
        "\n",
        "                    # Get link data input\n",
        "                    data = str(input('\\nEnter your link: '))\n",
        "\n",
        "                    # Create QR code object\n",
        "                    qr = qrcode.QRCode(version=version_, box_size=bsize, border=border_)\n",
        "                    qr.add_data(data)\n",
        "                    qr.make(fit=True)\n",
        "\n",
        "                    # Define color lists with hex codes\n",
        "                    fill_colors = {\n",
        "                        \"black\": \"#000000\", \"white\": \"#FFFFFF\", \"red\": \"#FF0000\", \"green\": \"#00FF00\",\n",
        "                        \"blue\": \"#0000FF\", \"yellow\": \"#FFFF00\", \"cyan\": \"#00FFFF\", \"magenta\": \"#FF00FF\",\n",
        "                        \"gray\": \"#808080\", \"darkgray\": \"#A9A9A9\", \"lightgray\": \"#D3D3D3\", \"brown\": \"#A52A2A\",\n",
        "                        \"orange\": \"#FFA500\", \"purple\": \"#800080\", \"pink\": \"#FFC0CB\", \"lime\": \"#00FF00\",\n",
        "                        \"teal\": \"#008080\", \"navy\": \"#000080\", \"maroon\": \"#800000\", \"olive\": \"#808000\",\n",
        "                        \"beige\": \"#F5F5DC\", \"silver\": \"#C0C0C0\", \"gold\": \"#FFD700\"\n",
        "                    }\n",
        "\n",
        "                    # Get fill color input and validate it\n",
        "                    fill_ = str(input(f\"\\nEnter QR Code's color (e.g., 'black', 'red'):\\n\\nYou have a variety of colors:\\n\\n{', '.join(fill_colors.keys())}\\n\\nEnter color: \"))\n",
        "\n",
        "                    if fill_ in fill_colors:\n",
        "\n",
        "                        # Get background color input and validate it\n",
        "                        backcolor = str(input(f'Enter the background color (e.g., \"white\", \"blue\"):\\n\\nYou have a variety of colors:\\n\\n{\", \".join(fill_colors.keys())}\\n\\nEnter background: '))\n",
        "\n",
        "                        if backcolor in fill_colors:\n",
        "\n",
        "                            # Create and save QR code image with colors\n",
        "                            img = qr.make_image(fill=fill_colors[fill_], back_color=fill_colors[backcolor])\n",
        "                            imgname = str(input('\\nEnter name by which you want to save QR Code Image: '))\n",
        "                            img.save(f'{imgname}.png')\n",
        "\n",
        "                            # Display the image in Colab\n",
        "                            display(Image(filename=f'{imgname}.png'))\n",
        "\n",
        "                        else:\n",
        "                            print('Enter a valid background color from the given list, please!')\n",
        "\n",
        "                    else:\n",
        "                        print(\"\\nPlease enter a valid fill color from the given list of colors!\")\n",
        "\n",
        "                else:\n",
        "                    print('\\nEnter a correct border (positive integer) please!')\n",
        "\n",
        "            else:\n",
        "                print('\\nEnter a correct box size (1-20) please!')\n",
        "\n",
        "        else:\n",
        "            print('\\nEnter a correct version (1-40) please!')\n",
        "\n",
        "    except Exception as e:\n",
        "        print(f'Error: {e}\\nEnter valid input please!\\nDear user! Enter input according to given instructions.')\n",
        "\n",
        "else:\n",
        "    print('\\nIncorrect Password!\\nAccess Denied!')\n"
      ],
      "metadata": {
        "id": "sO9siw8fK4QO",
        "outputId": "b4f5ed80-0c0a-4c1e-92ab-04015e981398",
        "colab": {
          "base_uri": "https://localhost:8080/",
          "height": 1000
        }
      },
      "id": "sO9siw8fK4QO",
      "execution_count": 18,
      "outputs": [
        {
          "name": "stdout",
          "output_type": "stream",
          "text": [
            "----------------------------------------- Welcome to \"Python3 Based QR Code Generator\" ----------------------------------------\n",
            "\n",
            "\t\t\t\t\t---------- Prepared by \"Rayyan Ahmed\" ----------\t\t\t\t\n",
            "\n",
            "Enter your password: Free Palestine\n",
            "Access Granted!\n",
            "Most welcome to Program!\n",
            "\n",
            "Enter the version (1-40): 15\n",
            "Enter box size (1-20): 6\n",
            "\n",
            "Enter border (qr code standard is 4): 4\n",
            "\n",
            "Enter your link: https://www.youtube.com/watch?v=unFF09PoGkA\n",
            "\n",
            "Enter QR Code's color (e.g., 'black', 'red'):\n",
            "\n",
            "You have a variety of colors:\n",
            "\n",
            "black, white, red, green, blue, yellow, cyan, magenta, gray, darkgray, lightgray, brown, orange, purple, pink, lime, teal, navy, maroon, olive, beige, silver, gold\n",
            "\n",
            "Enter color: green\n",
            "Enter the background color (e.g., \"white\", \"blue\"):\n",
            "\n",
            "You have a variety of colors:\n",
            "\n",
            "black, white, red, green, blue, yellow, cyan, magenta, gray, darkgray, lightgray, brown, orange, purple, pink, lime, teal, navy, maroon, olive, beige, silver, gold\n",
            "\n",
            "Enter background: green\n",
            "\n",
            "Enter name by which you want to save QR Code Image: myqrcode\n"
          ]
        },
        {
          "output_type": "display_data",
          "data": {
            "image/png": "[encoded data removed]",
            "text/plain": [
              "<IPython.core.display.Image object>"
            ]
          },
          "metadata": {}
        }
      ]
    },
    {
      "cell_type": "markdown",
      "source": [
        "### **QR Code Generator Program (Advanced Program):**"
      ],
      "metadata": {
        "id": "kzqm8S_6LRLp"
      },
      "id": "kzqm8S_6LRLp"
    },
    {
      "cell_type": "code",
      "source": [
        "import ipywidgets as widgets\n",
        "from IPython.display import display\n",
        "import qrcode\n",
        "from PIL import Image\n",
        "\n",
        "def generate_qr_code(button):\n",
        "    # Get inputs from widgets\n",
        "    password = 'Free Palestine'\n",
        "    user_password = password_widget.value\n",
        "\n",
        "    if user_password == password:\n",
        "\n",
        "        try:\n",
        "            print('Access Granted!\\nMost welcome to Program!')\n",
        "            version_ = version_widget.value\n",
        "            bsize = bsize_widget.value\n",
        "            border_ = border_widget.value\n",
        "            data = data_widget.value\n",
        "\n",
        "            if 1 <= version_ <= 40:\n",
        "                if 1 <= bsize <= 20:\n",
        "                    if border_ > 0:\n",
        "                        if data:\n",
        "                            qr = qrcode.QRCode(version=version_, box_size=bsize, border=border_)\n",
        "                            qr.add_data(data)\n",
        "                            qr.make(fit=True)\n",
        "\n",
        "                            fill_colors = {\n",
        "                                \"black\": \"#000000\", \"white\": \"#FFFFFF\", \"red\": \"#FF0000\", \"green\": \"#00FF00\",\n",
        "                                \"blue\": \"#0000FF\", \"yellow\": \"#FFFF00\", \"cyan\": \"#00FFFF\", \"magenta\": \"#FF00FF\",\n",
        "                                \"gray\": \"#808080\", \"darkgray\": \"#A9A9A9\", \"lightgray\": \"#D3D3D3\", \"brown\": \"#A52A2A\",\n",
        "                                \"orange\": \"#FFA500\", \"purple\": \"#800080\", \"pink\": \"#FFC0CB\", \"lime\": \"#00FF00\",\n",
        "                                \"teal\": \"#008080\", \"navy\": \"#000080\", \"maroon\": \"#800000\", \"olive\": \"#808000\",\n",
        "                                \"beige\": \"#F5F5DC\", \"silver\": \"#C0C0C0\", \"gold\": \"#FFD700\"\n",
        "                            }\n",
        "\n",
        "                            fill_ = fill_color_widget.value\n",
        "                            backcolor = back_color_widget.value\n",
        "\n",
        "                            if fill_ in fill_colors and backcolor in fill_colors:\n",
        "                                img = qr.make_image(fill=fill_colors[fill_], back_color=fill_colors[backcolor])\n",
        "                                imgname = img_name_widget.value\n",
        "                                img.save(f'{imgname}.png')\n",
        "                                img.show()\n",
        "                                output_widget.value = f'QR Code saved as {imgname}.png'\n",
        "                            else:\n",
        "                                output_widget.value = 'Please enter valid fill and background colors from the given list!'\n",
        "                        else:\n",
        "                            output_widget.value = 'Please enter a valid link!'\n",
        "                    else:\n",
        "                        output_widget.value = 'Enter a correct border (positive integer) please!'\n",
        "                else:\n",
        "                    output_widget.value = 'Enter a correct box size (1-20) please!'\n",
        "            else:\n",
        "                output_widget.value = 'Enter a correct version (1-40) please!'\n",
        "        except Exception as e:\n",
        "            output_widget.value = f'Error: {str(e)}'\n",
        "    else:\n",
        "        output_widget.value = 'Incorrect Password! Access Denied!'\n",
        "\n",
        "# Create widgets\n",
        "password_widget = widgets.Password(description='Password:')\n",
        "version_widget = widgets.IntSlider(value=1, min=1, max=40, step=1, description='Version:')\n",
        "bsize_widget = widgets.IntSlider(value=1, min=1, max=20, step=1, description='Box Size:')\n",
        "border_widget = widgets.IntSlider(value=4, min=1, max=10, step=1, description='Border:')\n",
        "data_widget = widgets.Text(description='Link:')\n",
        "fill_color_widget = widgets.Dropdown(\n",
        "    options=[\"black\", \"white\", \"red\", \"green\", \"blue\", \"yellow\", \"cyan\", \"magenta\", \"gray\", \"darkgray\", \"lightgray\", \"brown\", \"orange\", \"purple\", \"pink\", \"lime\", \"teal\", \"navy\", \"maroon\", \"olive\", \"beige\", \"silver\", \"gold\"],\n",
        "    value=\"black\",\n",
        "    description='Fill Color:'\n",
        ")\n",
        "back_color_widget = widgets.Dropdown(\n",
        "    options=[\"black\", \"white\", \"red\", \"green\", \"blue\", \"yellow\", \"cyan\", \"magenta\", \"gray\", \"darkgray\", \"lightgray\", \"brown\", \"orange\", \"purple\", \"pink\", \"lime\", \"teal\", \"navy\", \"maroon\", \"olive\", \"beige\", \"silver\", \"gold\"],\n",
        "    value=\"white\",\n",
        "    description='Back Color:'\n",
        ")\n",
        "img_name_widget = widgets.Text(description='Image Name:')\n",
        "output_widget = widgets.Output()\n",
        "\n",
        "# Create button\n",
        "button = widgets.Button(description=\"Generate QR Code\")\n",
        "button.on_click(generate_qr_code)\n",
        "\n",
        "# Display widgets\n",
        "display(password_widget, version_widget, bsize_widget, border_widget, data_widget, fill_color_widget, back_color_widget, img_name_widget, button, output_widget)\n",
        "\n",
        "\n",
        "# running this code in jupyter notebook will automatically open the qrcode in png file"
      ],
      "metadata": {
        "id": "a8AEGyLMLYkF",
        "outputId": "41feee29-6eb9-40f8-ed37-b786474cc19b",
        "colab": {
          "base_uri": "https://localhost:8080/",
          "height": 291,
          "referenced_widgets": [
            "76491726fe424d24bbe9051ec65059dc",
            "5f47294b73d14af0aa8a55c55b915187",
            "180ced744bf6493381c2bb9ae57d75bd",
            "64987a56f9f441f4aa001f73d717488d",
            "8a2c80a1a91542748cc8cbbc0d483d35",
            "31417ff097bb4b279538fbe1187dff93",
            "fafbc1a9cb254dce8b98134321272dcf",
            "ffb97e07d1be4da6abc7a04bc7680b3d",
            "58a65f40c5ba4f5f9a82ad4d51d14f7f",
            "588aa55f39884401b30589d29ca90771",
            "59e040ff58b548e09717339cc6580e0d",
            "4d8031055b8b4ef7a46a442c1e52deb2",
            "c2abfbefe4844accad625c907d84558c",
            "19d27c0423124df6be4fac5adfa8df64",
            "ff2bd895c39d4946bc1a3f4188c9f323",
            "746d016527b64c15978ae45267a0856f",
            "dac6b0df2c084d07841e743d8d6c40df",
            "b7c9a1b0537a4258978a109728ab8434",
            "253acc4aeed64547819761a6fa153487",
            "3823e47824db46009cced46ea38a0772",
            "1c44dc92e0b949b9a3754d0fc6841630",
            "899cee281eef43079737182fc75d12a5",
            "90af461bfe844382a25b56a5e1496b1a",
            "6908a6fcdcfc4db884801063a211807b",
            "1cd587b852b443c59a0902f2917e47f6",
            "cb3029c1f3474cf68673dce691ae7376",
            "2c70d84e71834a9d8aea1b96ad795e00",
            "59142a6f21094c7c95f5cd502a4fb06b",
            "175e86e6550245f381cacccbbf3891b1"
          ]
        }
      },
      "id": "a8AEGyLMLYkF",
      "execution_count": 20,
      "outputs": [
        {
          "output_type": "display_data",
          "data": {
            "text/plain": [
              "Password(description='Password:')"
            ],
            "application/vnd.jupyter.widget-view+json": {
              "version_major": 2,
              "version_minor": 0,
              "model_id": "76491726fe424d24bbe9051ec65059dc"
            }
          },
          "metadata": {}
        },
        {
          "output_type": "display_data",
          "data": {
            "text/plain": [
              "IntSlider(value=1, description='Version:', max=40, min=1)"
            ],
            "application/vnd.jupyter.widget-view+json": {
              "version_major": 2,
              "version_minor": 0,
              "model_id": "64987a56f9f441f4aa001f73d717488d"
            }
          },
          "metadata": {}
        },
        {
          "output_type": "display_data",
          "data": {
            "text/plain": [
              "IntSlider(value=1, description='Box Size:', max=20, min=1)"
            ],
            "application/vnd.jupyter.widget-view+json": {
              "version_major": 2,
              "version_minor": 0,
              "model_id": "fafbc1a9cb254dce8b98134321272dcf"
            }
          },
          "metadata": {}
        },
        {
          "output_type": "display_data",
          "data": {
            "text/plain": [
              "IntSlider(value=4, description='Border:', max=10, min=1)"
            ],
            "application/vnd.jupyter.widget-view+json": {
              "version_major": 2,
              "version_minor": 0,
              "model_id": "588aa55f39884401b30589d29ca90771"
            }
          },
          "metadata": {}
        },
        {
          "output_type": "display_data",
          "data": {
            "text/plain": [
              "Text(value='', description='Link:')"
            ],
            "application/vnd.jupyter.widget-view+json": {
              "version_major": 2,
              "version_minor": 0,
              "model_id": "c2abfbefe4844accad625c907d84558c"
            }
          },
          "metadata": {}
        },
        {
          "output_type": "display_data",
          "data": {
            "text/plain": [
              "Dropdown(description='Fill Color:', options=('black', 'white', 'red', 'green', 'blue', 'yellow', 'cyan', 'mage…"
            ],
            "application/vnd.jupyter.widget-view+json": {
              "version_major": 2,
              "version_minor": 0,
              "model_id": "746d016527b64c15978ae45267a0856f"
            }
          },
          "metadata": {}
        },
        {
          "output_type": "display_data",
          "data": {
            "text/plain": [
              "Dropdown(description='Back Color:', index=1, options=('black', 'white', 'red', 'green', 'blue', 'yellow', 'cya…"
            ],
            "application/vnd.jupyter.widget-view+json": {
              "version_major": 2,
              "version_minor": 0,
              "model_id": "253acc4aeed64547819761a6fa153487"
            }
          },
          "metadata": {}
        },
        {
          "output_type": "display_data",
          "data": {
            "text/plain": [
              "Text(value='', description='Image Name:')"
            ],
            "application/vnd.jupyter.widget-view+json": {
              "version_major": 2,
              "version_minor": 0,
              "model_id": "899cee281eef43079737182fc75d12a5"
            }
          },
          "metadata": {}
        },
        {
          "output_type": "display_data",
          "data": {
            "text/plain": [
              "Button(description='Generate QR Code', style=ButtonStyle())"
            ],
            "application/vnd.jupyter.widget-view+json": {
              "version_major": 2,
              "version_minor": 0,
              "model_id": "1cd587b852b443c59a0902f2917e47f6"
            }
          },
          "metadata": {}
        },
        {
          "output_type": "display_data",
          "data": {
            "text/plain": [
              "Output()"
            ],
            "application/vnd.jupyter.widget-view+json": {
              "version_major": 2,
              "version_minor": 0,
              "model_id": "59142a6f21094c7c95f5cd502a4fb06b"
            }
          },
          "metadata": {}
        }
      ]
    },
    {
      "cell_type": "markdown",
      "source": [
        "![image.png](data:image/png;base64,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)"
      ],
      "metadata": {
        "id": "tE3QYzG0LxMI"
      },
      "id": "tE3QYzG0LxMI"
    },
    {
      "cell_type": "code",
      "source": [],
      "metadata": {
        "id": "jz1yh7z0L3oG"
      },
      "id": "jz1yh7z0L3oG",
      "execution_count": null,
      "outputs": []
    }
  ],
  "metadata": {
    "kernelspec": {
      "display_name": "Python 3 (ipykernel)",
      "language": "python",
      "name": "python3"
    },
    "language_info": {
      "codemirror_mode": {
        "name": "ipython",
        "version": 3
      },
      "file_extension": ".py",
      "mimetype": "text/x-python",
      "name": "python",
      "nbconvert_exporter": "python",
      "pygments_lexer": "ipython3",
      "version": "3.11.5"
    },
    "colab": {
      "provenance": []
    },
    "widgets": {
      "application/vnd.jupyter.widget-state+json": {
        "76491726fe424d24bbe9051ec65059dc": {
          "model_module": "@jupyter-widgets/controls",
          "model_name": "PasswordModel",
          "model_module_version": "1.5.0",
          "state": {
            "_dom_classes": [],
            "_model_module": "@jupyter-widgets/controls",
            "_model_module_version": "1.5.0",
            "_model_name": "PasswordModel",
            "_view_count": null,
            "_view_module": "@jupyter-widgets/controls",
            "_view_module_version": "1.5.0",
            "_view_name": "PasswordView",
            "continuous_update": true,
            "description": "Password:",
            "description_tooltip": null,
            "disabled": false,
            "layout": "IPY_MODEL_5f47294b73d14af0aa8a55c55b915187",
            "placeholder": "​",
            "style": "IPY_MODEL_180ced744bf6493381c2bb9ae57d75bd",
            "value": "Free Palestine"
          }
        },
        "5f47294b73d14af0aa8a55c55b915187": {
          "model_module": "@jupyter-widgets/base",
          "model_name": "LayoutModel",
          "model_module_version": "1.2.0",
          "state": {
            "_model_module": "@jupyter-widgets/base",
            "_model_module_version": "1.2.0",
            "_model_name": "LayoutModel",
            "_view_count": null,
            "_view_module": "@jupyter-widgets/base",
            "_view_module_version": "1.2.0",
            "_view_name": "LayoutView",
            "align_content": null,
            "align_items": null,
            "align_self": null,
            "border": null,
            "bottom": null,
            "display": null,
            "flex": null,
            "flex_flow": null,
            "grid_area": null,
            "grid_auto_columns": null,
            "grid_auto_flow": null,
            "grid_auto_rows": null,
            "grid_column": null,
            "grid_gap": null,
            "grid_row": null,
            "grid_template_areas": null,
            "grid_template_columns": null,
            "grid_template_rows": null,
            "height": null,
            "justify_content": null,
            "justify_items": null,
            "left": null,
            "margin": null,
            "max_height": null,
            "max_width": null,
            "min_height": null,
            "min_width": null,
            "object_fit": null,
            "object_position": null,
            "order": null,
            "overflow": null,
            "overflow_x": null,
            "overflow_y": null,
            "padding": null,
            "right": null,
            "top": null,
            "visibility": null,
            "width": null
          }
        },
        "180ced744bf6493381c2bb9ae57d75bd": {
          "model_module": "@jupyter-widgets/controls",
          "model_name": "DescriptionStyleModel",
          "model_module_version": "1.5.0",
          "state": {
            "_model_module": "@jupyter-widgets/controls",
            "_model_module_version": "1.5.0",
            "_model_name": "DescriptionStyleModel",
            "_view_count": null,
            "_view_module": "@jupyter-widgets/base",
            "_view_module_version": "1.2.0",
            "_view_name": "StyleView",
            "description_width": ""
          }
        },
        "64987a56f9f441f4aa001f73d717488d": {
          "model_module": "@jupyter-widgets/controls",
          "model_name": "IntSliderModel",
          "model_module_version": "1.5.0",
          "state": {
            "_dom_classes": [],
            "_model_module": "@jupyter-widgets/controls",
            "_model_module_version": "1.5.0",
            "_model_name": "IntSliderModel",
            "_view_count": null,
            "_view_module": "@jupyter-widgets/controls",
            "_view_module_version": "1.5.0",
            "_view_name": "IntSliderView",
            "continuous_update": true,
            "description": "Version:",
            "description_tooltip": null,
            "disabled": false,
            "layout": "IPY_MODEL_8a2c80a1a91542748cc8cbbc0d483d35",
            "max": 40,
            "min": 1,
            "orientation": "horizontal",
            "readout": true,
            "readout_format": "d",
            "step": 1,
            "style": "IPY_MODEL_31417ff097bb4b279538fbe1187dff93",
            "value": 7
          }
        },
        "8a2c80a1a91542748cc8cbbc0d483d35": {
          "model_module": "@jupyter-widgets/base",
          "model_name": "LayoutModel",
          "model_module_version": "1.2.0",
          "state": {
            "_model_module": "@jupyter-widgets/base",
            "_model_module_version": "1.2.0",
            "_model_name": "LayoutModel",
            "_view_count": null,
            "_view_module": "@jupyter-widgets/base",
            "_view_module_version": "1.2.0",
            "_view_name": "LayoutView",
            "align_content": null,
            "align_items": null,
            "align_self": null,
            "border": null,
            "bottom": null,
            "display": null,
            "flex": null,
            "flex_flow": null,
            "grid_area": null,
            "grid_auto_columns": null,
            "grid_auto_flow": null,
            "grid_auto_rows": null,
            "grid_column": null,
            "grid_gap": null,
            "grid_row": null,
            "grid_template_areas": null,
            "grid_template_columns": null,
            "grid_template_rows": null,
            "height": null,
            "justify_content": null,
            "justify_items": null,
            "left": null,
            "margin": null,
            "max_height": null,
            "max_width": null,
            "min_height": null,
            "min_width": null,
            "object_fit": null,
            "object_position": null,
            "order": null,
            "overflow": null,
            "overflow_x": null,
            "overflow_y": null,
            "padding": null,
            "right": null,
            "top": null,
            "visibility": null,
            "width": null
          }
        },
        "31417ff097bb4b279538fbe1187dff93": {
          "model_module": "@jupyter-widgets/controls",
          "model_name": "SliderStyleModel",
          "model_module_version": "1.5.0",
          "state": {
            "_model_module": "@jupyter-widgets/controls",
            "_model_module_version": "1.5.0",
            "_model_name": "SliderStyleModel",
            "_view_count": null,
            "_view_module": "@jupyter-widgets/base",
            "_view_module_version": "1.2.0",
            "_view_name": "StyleView",
            "description_width": "",
            "handle_color": null
          }
        },
        "fafbc1a9cb254dce8b98134321272dcf": {
          "model_module": "@jupyter-widgets/controls",
          "model_name": "IntSliderModel",
          "model_module_version": "1.5.0",
          "state": {
            "_dom_classes": [],
            "_model_module": "@jupyter-widgets/controls",
            "_model_module_version": "1.5.0",
            "_model_name": "IntSliderModel",
            "_view_count": null,
            "_view_module": "@jupyter-widgets/controls",
            "_view_module_version": "1.5.0",
            "_view_name": "IntSliderView",
            "continuous_update": true,
            "description": "Box Size:",
            "description_tooltip": null,
            "disabled": false,
            "layout": "IPY_MODEL_ffb97e07d1be4da6abc7a04bc7680b3d",
            "max": 20,
            "min": 1,
            "orientation": "horizontal",
            "readout": true,
            "readout_format": "d",
            "step": 1,
            "style": "IPY_MODEL_58a65f40c5ba4f5f9a82ad4d51d14f7f",
            "value": 8
          }
        },
        "ffb97e07d1be4da6abc7a04bc7680b3d": {
          "model_module": "@jupyter-widgets/base",
          "model_name": "LayoutModel",
          "model_module_version": "1.2.0",
          "state": {
            "_model_module": "@jupyter-widgets/base",
            "_model_module_version": "1.2.0",
            "_model_name": "LayoutModel",
            "_view_count": null,
            "_view_module": "@jupyter-widgets/base",
            "_view_module_version": "1.2.0",
            "_view_name": "LayoutView",
            "align_content": null,
            "align_items": null,
            "align_self": null,
            "border": null,
            "bottom": null,
            "display": null,
            "flex": null,
            "flex_flow": null,
            "grid_area": null,
            "grid_auto_columns": null,
            "grid_auto_flow": null,
            "grid_auto_rows": null,
            "grid_column": null,
            "grid_gap": null,
            "grid_row": null,
            "grid_template_areas": null,
            "grid_template_columns": null,
            "grid_template_rows": null,
            "height": null,
            "justify_content": null,
            "justify_items": null,
            "left": null,
            "margin": null,
            "max_height": null,
            "max_width": null,
            "min_height": null,
            "min_width": null,
            "object_fit": null,
            "object_position": null,
            "order": null,
            "overflow": null,
            "overflow_x": null,
            "overflow_y": null,
            "padding": null,
            "right": null,
            "top": null,
            "visibility": null,
            "width": null
          }
        },
        "58a65f40c5ba4f5f9a82ad4d51d14f7f": {
          "model_module": "@jupyter-widgets/controls",
          "model_name": "SliderStyleModel",
          "model_module_version": "1.5.0",
          "state": {
            "_model_module": "@jupyter-widgets/controls",
            "_model_module_version": "1.5.0",
            "_model_name": "SliderStyleModel",
            "_view_count": null,
            "_view_module": "@jupyter-widgets/base",
            "_view_module_version": "1.2.0",
            "_view_name": "StyleView",
            "description_width": "",
            "handle_color": null
          }
        },
        "588aa55f39884401b30589d29ca90771": {
          "model_module": "@jupyter-widgets/controls",
          "model_name": "IntSliderModel",
          "model_module_version": "1.5.0",
          "state": {
            "_dom_classes": [],
            "_model_module": "@jupyter-widgets/controls",
            "_model_module_version": "1.5.0",
            "_model_name": "IntSliderModel",
            "_view_count": null,
            "_view_module": "@jupyter-widgets/controls",
            "_view_module_version": "1.5.0",
            "_view_name": "IntSliderView",
            "continuous_update": true,
            "description": "Border:",
            "description_tooltip": null,
            "disabled": false,
            "layout": "IPY_MODEL_59e040ff58b548e09717339cc6580e0d",
            "max": 10,
            "min": 1,
            "orientation": "horizontal",
            "readout": true,
            "readout_format": "d",
            "step": 1,
            "style": "IPY_MODEL_4d8031055b8b4ef7a46a442c1e52deb2",
            "value": 4
          }
        },
        "59e040ff58b548e09717339cc6580e0d": {
          "model_module": "@jupyter-widgets/base",
          "model_name": "LayoutModel",
          "model_module_version": "1.2.0",
          "state": {
            "_model_module": "@jupyter-widgets/base",
            "_model_module_version": "1.2.0",
            "_model_name": "LayoutModel",
            "_view_count": null,
            "_view_module": "@jupyter-widgets/base",
            "_view_module_version": "1.2.0",
            "_view_name": "LayoutView",
            "align_content": null,
            "align_items": null,
            "align_self": null,
            "border": null,
            "bottom": null,
            "display": null,
            "flex": null,
            "flex_flow": null,
            "grid_area": null,
            "grid_auto_columns": null,
            "grid_auto_flow": null,
            "grid_auto_rows": null,
            "grid_column": null,
            "grid_gap": null,
            "grid_row": null,
            "grid_template_areas": null,
            "grid_template_columns": null,
            "grid_template_rows": null,
            "height": null,
            "justify_content": null,
            "justify_items": null,
            "left": null,
            "margin": null,
            "max_height": null,
            "max_width": null,
            "min_height": null,
            "min_width": null,
            "object_fit": null,
            "object_position": null,
            "order": null,
            "overflow": null,
            "overflow_x": null,
            "overflow_y": null,
            "padding": null,
            "right": null,
            "top": null,
            "visibility": null,
            "width": null
          }
        },
        "4d8031055b8b4ef7a46a442c1e52deb2": {
          "model_module": "@jupyter-widgets/controls",
          "model_name": "SliderStyleModel",
          "model_module_version": "1.5.0",
          "state": {
            "_model_module": "@jupyter-widgets/controls",
            "_model_module_version": "1.5.0",
            "_model_name": "SliderStyleModel",
            "_view_count": null,
            "_view_module": "@jupyter-widgets/base",
            "_view_module_version": "1.2.0",
            "_view_name": "StyleView",
            "description_width": "",
            "handle_color": null
          }
        },
        "c2abfbefe4844accad625c907d84558c": {
          "model_module": "@jupyter-widgets/controls",
          "model_name": "TextModel",
          "model_module_version": "1.5.0",
          "state": {
            "_dom_classes": [],
            "_model_module": "@jupyter-widgets/controls",
            "_model_module_version": "1.5.0",
            "_model_name": "TextModel",
            "_view_count": null,
            "_view_module": "@jupyter-widgets/controls",
            "_view_module_version": "1.5.0",
            "_view_name": "TextView",
            "continuous_update": true,
            "description": "Link:",
            "description_tooltip": null,
            "disabled": false,
            "layout": "IPY_MODEL_19d27c0423124df6be4fac5adfa8df64",
            "placeholder": "​",
            "style": "IPY_MODEL_ff2bd895c39d4946bc1a3f4188c9f323",
            "value": "https://www.youtube.com/watch?v=unFF09PoGkA"
          }
        },
        "19d27c0423124df6be4fac5adfa8df64": {
          "model_module": "@jupyter-widgets/base",
          "model_name": "LayoutModel",
          "model_module_version": "1.2.0",
          "state": {
            "_model_module": "@jupyter-widgets/base",
            "_model_module_version": "1.2.0",
            "_model_name": "LayoutModel",
            "_view_count": null,
            "_view_module": "@jupyter-widgets/base",
            "_view_module_version": "1.2.0",
            "_view_name": "LayoutView",
            "align_content": null,
            "align_items": null,
            "align_self": null,
            "border": null,
            "bottom": null,
            "display": null,
            "flex": null,
            "flex_flow": null,
            "grid_area": null,
            "grid_auto_columns": null,
            "grid_auto_flow": null,
            "grid_auto_rows": null,
            "grid_column": null,
            "grid_gap": null,
            "grid_row": null,
            "grid_template_areas": null,
            "grid_template_columns": null,
            "grid_template_rows": null,
            "height": null,
            "justify_content": null,
            "justify_items": null,
            "left": null,
            "margin": null,
            "max_height": null,
            "max_width": null,
            "min_height": null,
            "min_width": null,
            "object_fit": null,
            "object_position": null,
            "order": null,
            "overflow": null,
            "overflow_x": null,
            "overflow_y": null,
            "padding": null,
            "right": null,
            "top": null,
            "visibility": null,
            "width": null
          }
        },
        "ff2bd895c39d4946bc1a3f4188c9f323": {
          "model_module": "@jupyter-widgets/controls",
          "model_name": "DescriptionStyleModel",
          "model_module_version": "1.5.0",
          "state": {
            "_model_module": "@jupyter-widgets/controls",
            "_model_module_version": "1.5.0",
            "_model_name": "DescriptionStyleModel",
            "_view_count": null,
            "_view_module": "@jupyter-widgets/base",
            "_view_module_version": "1.2.0",
            "_view_name": "StyleView",
            "description_width": ""
          }
        },
        "746d016527b64c15978ae45267a0856f": {
          "model_module": "@jupyter-widgets/controls",
          "model_name": "DropdownModel",
          "model_module_version": "1.5.0",
          "state": {
            "_dom_classes": [],
            "_model_module": "@jupyter-widgets/controls",
            "_model_module_version": "1.5.0",
            "_model_name": "DropdownModel",
            "_options_labels": [
              "black",
              "white",
              "red",
              "green",
              "blue",
              "yellow",
              "cyan",
              "magenta",
              "gray",
              "darkgray",
              "lightgray",
              "brown",
              "orange",
              "purple",
              "pink",
              "lime",
              "teal",
              "navy",
              "maroon",
              "olive",
              "beige",
              "silver",
              "gold"
            ],
            "_view_count": null,
            "_view_module": "@jupyter-widgets/controls",
            "_view_module_version": "1.5.0",
            "_view_name": "DropdownView",
            "description": "Fill Color:",
            "description_tooltip": null,
            "disabled": false,
            "index": 3,
            "layout": "IPY_MODEL_dac6b0df2c084d07841e743d8d6c40df",
            "style": "IPY_MODEL_b7c9a1b0537a4258978a109728ab8434"
          }
        },
        "dac6b0df2c084d07841e743d8d6c40df": {
          "model_module": "@jupyter-widgets/base",
          "model_name": "LayoutModel",
          "model_module_version": "1.2.0",
          "state": {
            "_model_module": "@jupyter-widgets/base",
            "_model_module_version": "1.2.0",
            "_model_name": "LayoutModel",
            "_view_count": null,
            "_view_module": "@jupyter-widgets/base",
            "_view_module_version": "1.2.0",
            "_view_name": "LayoutView",
            "align_content": null,
            "align_items": null,
            "align_self": null,
            "border": null,
            "bottom": null,
            "display": null,
            "flex": null,
            "flex_flow": null,
            "grid_area": null,
            "grid_auto_columns": null,
            "grid_auto_flow": null,
            "grid_auto_rows": null,
            "grid_column": null,
            "grid_gap": null,
            "grid_row": null,
            "grid_template_areas": null,
            "grid_template_columns": null,
            "grid_template_rows": null,
            "height": null,
            "justify_content": null,
            "justify_items": null,
            "left": null,
            "margin": null,
            "max_height": null,
            "max_width": null,
            "min_height": null,
            "min_width": null,
            "object_fit": null,
            "object_position": null,
            "order": null,
            "overflow": null,
            "overflow_x": null,
            "overflow_y": null,
            "padding": null,
            "right": null,
            "top": null,
            "visibility": null,
            "width": null
          }
        },
        "b7c9a1b0537a4258978a109728ab8434": {
          "model_module": "@jupyter-widgets/controls",
          "model_name": "DescriptionStyleModel",
          "model_module_version": "1.5.0",
          "state": {
            "_model_module": "@jupyter-widgets/controls",
            "_model_module_version": "1.5.0",
            "_model_name": "DescriptionStyleModel",
            "_view_count": null,
            "_view_module": "@jupyter-widgets/base",
            "_view_module_version": "1.2.0",
            "_view_name": "StyleView",
            "description_width": ""
          }
        },
        "253acc4aeed64547819761a6fa153487": {
          "model_module": "@jupyter-widgets/controls",
          "model_name": "DropdownModel",
          "model_module_version": "1.5.0",
          "state": {
            "_dom_classes": [],
            "_model_module": "@jupyter-widgets/controls",
            "_model_module_version": "1.5.0",
            "_model_name": "DropdownModel",
            "_options_labels": [
              "black",
              "white",
              "red",
              "green",
              "blue",
              "yellow",
              "cyan",
              "magenta",
              "gray",
              "darkgray",
              "lightgray",
              "brown",
              "orange",
              "purple",
              "pink",
              "lime",
              "teal",
              "navy",
              "maroon",
              "olive",
              "beige",
              "silver",
              "gold"
            ],
            "_view_count": null,
            "_view_module": "@jupyter-widgets/controls",
            "_view_module_version": "1.5.0",
            "_view_name": "DropdownView",
            "description": "Back Color:",
            "description_tooltip": null,
            "disabled": false,
            "index": 3,
            "layout": "IPY_MODEL_3823e47824db46009cced46ea38a0772",
            "style": "IPY_MODEL_1c44dc92e0b949b9a3754d0fc6841630"
          }
        },
        "3823e47824db46009cced46ea38a0772": {
          "model_module": "@jupyter-widgets/base",
          "model_name": "LayoutModel",
          "model_module_version": "1.2.0",
          "state": {
            "_model_module": "@jupyter-widgets/base",
            "_model_module_version": "1.2.0",
            "_model_name": "LayoutModel",
            "_view_count": null,
            "_view_module": "@jupyter-widgets/base",
            "_view_module_version": "1.2.0",
            "_view_name": "LayoutView",
            "align_content": null,
            "align_items": null,
            "align_self": null,
            "border": null,
            "bottom": null,
            "display": null,
            "flex": null,
            "flex_flow": null,
            "grid_area": null,
            "grid_auto_columns": null,
            "grid_auto_flow": null,
            "grid_auto_rows": null,
            "grid_column": null,
            "grid_gap": null,
            "grid_row": null,
            "grid_template_areas": null,
            "grid_template_columns": null,
            "grid_template_rows": null,
            "height": null,
            "justify_content": null,
            "justify_items": null,
            "left": null,
            "margin": null,
            "max_height": null,
            "max_width": null,
            "min_height": null,
            "min_width": null,
            "object_fit": null,
            "object_position": null,
            "order": null,
            "overflow": null,
            "overflow_x": null,
            "overflow_y": null,
            "padding": null,
            "right": null,
            "top": null,
            "visibility": null,
            "width": null
          }
        },
        "1c44dc92e0b949b9a3754d0fc6841630": {
          "model_module": "@jupyter-widgets/controls",
          "model_name": "DescriptionStyleModel",
          "model_module_version": "1.5.0",
          "state": {
            "_model_module": "@jupyter-widgets/controls",
            "_model_module_version": "1.5.0",
            "_model_name": "DescriptionStyleModel",
            "_view_count": null,
            "_view_module": "@jupyter-widgets/base",
            "_view_module_version": "1.2.0",
            "_view_name": "StyleView",
            "description_width": ""
          }
        },
        "899cee281eef43079737182fc75d12a5": {
          "model_module": "@jupyter-widgets/controls",
          "model_name": "TextModel",
          "model_module_version": "1.5.0",
          "state": {
            "_dom_classes": [],
            "_model_module": "@jupyter-widgets/controls",
            "_model_module_version": "1.5.0",
            "_model_name": "TextModel",
            "_view_count": null,
            "_view_module": "@jupyter-widgets/controls",
            "_view_module_version": "1.5.0",
            "_view_name": "TextView",
            "continuous_update": true,
            "description": "Image Name:",
            "description_tooltip": null,
            "disabled": false,
            "layout": "IPY_MODEL_90af461bfe844382a25b56a5e1496b1a",
            "placeholder": "​",
            "style": "IPY_MODEL_6908a6fcdcfc4db884801063a211807b",
            "value": "myqrcode"
          }
        },
        "90af461bfe844382a25b56a5e1496b1a": {
          "model_module": "@jupyter-widgets/base",
          "model_name": "LayoutModel",
          "model_module_version": "1.2.0",
          "state": {
            "_model_module": "@jupyter-widgets/base",
            "_model_module_version": "1.2.0",
            "_model_name": "LayoutModel",
            "_view_count": null,
            "_view_module": "@jupyter-widgets/base",
            "_view_module_version": "1.2.0",
            "_view_name": "LayoutView",
            "align_content": null,
            "align_items": null,
            "align_self": null,
            "border": null,
            "bottom": null,
            "display": null,
            "flex": null,
            "flex_flow": null,
            "grid_area": null,
            "grid_auto_columns": null,
            "grid_auto_flow": null,
            "grid_auto_rows": null,
            "grid_column": null,
            "grid_gap": null,
            "grid_row": null,
            "grid_template_areas": null,
            "grid_template_columns": null,
            "grid_template_rows": null,
            "height": null,
            "justify_content": null,
            "justify_items": null,
            "left": null,
            "margin": null,
            "max_height": null,
            "max_width": null,
            "min_height": null,
            "min_width": null,
            "object_fit": null,
            "object_position": null,
            "order": null,
            "overflow": null,
            "overflow_x": null,
            "overflow_y": null,
            "padding": null,
            "right": null,
            "top": null,
            "visibility": null,
            "width": null
          }
        },
        "6908a6fcdcfc4db884801063a211807b": {
          "model_module": "@jupyter-widgets/controls",
          "model_name": "DescriptionStyleModel",
          "model_module_version": "1.5.0",
          "state": {
            "_model_module": "@jupyter-widgets/controls",
            "_model_module_version": "1.5.0",
            "_model_name": "DescriptionStyleModel",
            "_view_count": null,
            "_view_module": "@jupyter-widgets/base",
            "_view_module_version": "1.2.0",
            "_view_name": "StyleView",
            "description_width": ""
          }
        },
        "1cd587b852b443c59a0902f2917e47f6": {
          "model_module": "@jupyter-widgets/controls",
          "model_name": "ButtonModel",
          "model_module_version": "1.5.0",
          "state": {
            "_dom_classes": [],
            "_model_module": "@jupyter-widgets/controls",
            "_model_module_version": "1.5.0",
            "_model_name": "ButtonModel",
            "_view_count": null,
            "_view_module": "@jupyter-widgets/controls",
            "_view_module_version": "1.5.0",
            "_view_name": "ButtonView",
            "button_style": "",
            "description": "Generate QR Code",
            "disabled": false,
            "icon": "",
            "layout": "IPY_MODEL_cb3029c1f3474cf68673dce691ae7376",
            "style": "IPY_MODEL_2c70d84e71834a9d8aea1b96ad795e00",
            "tooltip": ""
          }
        },
        "cb3029c1f3474cf68673dce691ae7376": {
          "model_module": "@jupyter-widgets/base",
          "model_name": "LayoutModel",
          "model_module_version": "1.2.0",
          "state": {
            "_model_module": "@jupyter-widgets/base",
            "_model_module_version": "1.2.0",
            "_model_name": "LayoutModel",
            "_view_count": null,
            "_view_module": "@jupyter-widgets/base",
            "_view_module_version": "1.2.0",
            "_view_name": "LayoutView",
            "align_content": null,
            "align_items": null,
            "align_self": null,
            "border": null,
            "bottom": null,
            "display": null,
            "flex": null,
            "flex_flow": null,
            "grid_area": null,
            "grid_auto_columns": null,
            "grid_auto_flow": null,
            "grid_auto_rows": null,
            "grid_column": null,
            "grid_gap": null,
            "grid_row": null,
            "grid_template_areas": null,
            "grid_template_columns": null,
            "grid_template_rows": null,
            "height": null,
            "justify_content": null,
            "justify_items": null,
            "left": null,
            "margin": null,
            "max_height": null,
            "max_width": null,
            "min_height": null,
            "min_width": null,
            "object_fit": null,
            "object_position": null,
            "order": null,
            "overflow": null,
            "overflow_x": null,
            "overflow_y": null,
            "padding": null,
            "right": null,
            "top": null,
            "visibility": null,
            "width": null
          }
        },
        "2c70d84e71834a9d8aea1b96ad795e00": {
          "model_module": "@jupyter-widgets/controls",
          "model_name": "ButtonStyleModel",
          "model_module_version": "1.5.0",
          "state": {
            "_model_module": "@jupyter-widgets/controls",
            "_model_module_version": "1.5.0",
            "_model_name": "ButtonStyleModel",
            "_view_count": null,
            "_view_module": "@jupyter-widgets/base",
            "_view_module_version": "1.2.0",
            "_view_name": "StyleView",
            "button_color": null,
            "font_weight": ""
          }
        },
        "59142a6f21094c7c95f5cd502a4fb06b": {
          "model_module": "@jupyter-widgets/output",
          "model_name": "OutputModel",
          "model_module_version": "1.0.0",
          "state": {
            "_dom_classes": [],
            "_model_module": "@jupyter-widgets/output",
            "_model_module_version": "1.0.0",
            "_model_name": "OutputModel",
            "_view_count": null,
            "_view_module": "@jupyter-widgets/output",
            "_view_module_version": "1.0.0",
            "_view_name": "OutputView",
            "layout": "IPY_MODEL_175e86e6550245f381cacccbbf3891b1",
            "msg_id": "",
            "outputs": []
          }
        },
        "175e86e6550245f381cacccbbf3891b1": {
          "model_module": "@jupyter-widgets/base",
          "model_name": "LayoutModel",
          "model_module_version": "1.2.0",
          "state": {
            "_model_module": "@jupyter-widgets/base",
            "_model_module_version": "1.2.0",
            "_model_name": "LayoutModel",
            "_view_count": null,
            "_view_module": "@jupyter-widgets/base",
            "_view_module_version": "1.2.0",
            "_view_name": "LayoutView",
            "align_content": null,
            "align_items": null,
            "align_self": null,
            "border": null,
            "bottom": null,
            "display": null,
            "flex": null,
            "flex_flow": null,
            "grid_area": null,
            "grid_auto_columns": null,
            "grid_auto_flow": null,
            "grid_auto_rows": null,
            "grid_column": null,
            "grid_gap": null,
            "grid_row": null,
            "grid_template_areas": null,
            "grid_template_columns": null,
            "grid_template_rows": null,
            "height": null,
            "justify_content": null,
            "justify_items": null,
            "left": null,
            "margin": null,
            "max_height": null,
            "max_width": null,
            "min_height": null,
            "min_width": null,
            "object_fit": null,
            "object_position": null,
            "order": null,
            "overflow": null,
            "overflow_x": null,
            "overflow_y": null,
            "padding": null,
            "right": null,
            "top": null,
            "visibility": null,
            "width": null
          }
        }
      }
    }
  },
  "nbformat": 4,
  "nbformat_minor": 5
}