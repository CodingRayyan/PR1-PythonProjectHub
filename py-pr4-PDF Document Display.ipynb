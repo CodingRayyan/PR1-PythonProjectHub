{
 "cells": [
  {
   "cell_type": "code",
   "execution_count": 16,
   "id": "ef06c903",
   "metadata": {},
   "outputs": [],
   "source": [
    "from IPython.display import IFrame\n"
   ]
  },
  {
   "cell_type": "code",
   "execution_count": 1,
   "id": "a8914656",
   "metadata": {},
   "outputs": [
    {
     "name": "stdout",
     "output_type": "stream",
     "text": [
      "Enter the password: !#%246\n",
      "Enter PDF name: Probability Distribution\n",
      "Enter intended width (300-1000): 950\n",
      "Enter intended height (300-1000): 600\n"
     ]
    },
    {
     "data": {
      "text/html": [
       "\n",
       "        <iframe\n",
       "            width=\"950\"\n",
       "            height=\"600\"\n",
       "            src=\"Probability Distribution.pdf\"\n",
       "            frameborder=\"0\"\n",
       "            allowfullscreen\n",
       "            \n",
       "        ></iframe>\n",
       "        "
      ],
      "text/plain": [
       "<IPython.lib.display.IFrame at 0x200401a1d90>"
      ]
     },
     "metadata": {},
     "output_type": "display_data"
    },
    {
     "name": "stdout",
     "output_type": "stream",
     "text": [
      "\n",
      "Wanna run again (y/n)?: n\n",
      "\n",
      "You chose to exit!\n",
      "Good Bye 👋 👋 👋\n"
     ]
    }
   ],
   "source": [
    "from IPython.display import IFrame, display\n",
    "\n",
    "while True:\n",
    "    password = '!#%246'\n",
    "    pass_ = input('Enter the password: ')\n",
    "\n",
    "    if password == pass_:\n",
    "        try:\n",
    "            name = input('Enter PDF name: ')\n",
    "            name += '.pdf'\n",
    "\n",
    "            width = int(input('Enter intended width (300-1000): '))\n",
    "\n",
    "            if 299 < width < 1001:\n",
    "                height = int(input('Enter intended height (300-1000): '))\n",
    "\n",
    "                if 299 < height < 1001:\n",
    "                    # Display the PDF in an IFrame\n",
    "                    display(IFrame(name, width=width, height=height))\n",
    "                else:\n",
    "                    print('Please enter height within given limits')\n",
    "            else:\n",
    "                print('Please enter width within given limits!')\n",
    "        except ValueError:\n",
    "            print('Please enter valid numerical values for width and height.')\n",
    "        except Exception as e:\n",
    "            print(f'An error occurred: {e}')\n",
    "    else:\n",
    "        print('\\nIncorrect Password! 🚫 🚫 🚫\\nAccess Denied!❌ 🔒 ❌')\n",
    "\n",
    "    run = input('\\nWanna run again (y/n)?: ').lower()\n",
    "\n",
    "    if run != 'y':\n",
    "        print('\\nYou chose to exit!\\nGood Bye 👋 👋 👋')\n",
    "        break\n"
   ]
  },
  {
   "cell_type": "code",
   "execution_count": 2,
   "id": "df8d3ebd",
   "metadata": {},
   "outputs": [
    {
     "data": {
      "text/html": [
       "\n",
       "        <iframe\n",
       "            width=\"950\"\n",
       "            height=\"600\"\n",
       "            src=\"Probability Distribution.pdf\"\n",
       "            frameborder=\"0\"\n",
       "            allowfullscreen\n",
       "            \n",
       "        ></iframe>\n",
       "        "
      ],
      "text/plain": [
       "<IPython.lib.display.IFrame at 0x20040250650>"
      ]
     },
     "metadata": {},
     "output_type": "display_data"
    }
   ],
   "source": [
    "import ipywidgets as widgets\n",
    "from IPython.display import display, IFrame, clear_output\n",
    "\n",
    "def display_pdf(file_name, width, height):\n",
    "    clear_output()  # Clear the previous output\n",
    "    try:\n",
    "        # Display the PDF in an IFrame\n",
    "        display(IFrame(file_name, width=width, height=height))\n",
    "    except Exception as e:\n",
    "        print(f'An error occurred: {e}')\n",
    "\n",
    "def on_submit(change):\n",
    "    password = password_widget.value\n",
    "    if password == '!#%246':\n",
    "        try:\n",
    "            name = name_widget.value\n",
    "            name += '.pdf'\n",
    "            width = int(width_widget.value)\n",
    "            height = int(height_widget.value)\n",
    "\n",
    "            if 299 < width < 1001 and 299 < height < 1001:\n",
    "                display_pdf(name, width, height)\n",
    "            else:\n",
    "                print('Please enter width and height within the given limits!')\n",
    "        except ValueError:\n",
    "            print('Please enter valid numerical values for width and height.')\n",
    "    else:\n",
    "        print('\\nIncorrect Password! 🚫 🚫 🚫\\nAccess Denied!❌ 🔒 ❌')\n",
    "\n",
    "# Create widgets\n",
    "password_widget = widgets.Password(description='Password:')\n",
    "name_widget = widgets.Text(description='PDF name:')\n",
    "width_widget = widgets.IntSlider(description='Width:', min=300, max=1000, step=10)\n",
    "height_widget = widgets.IntSlider(description='Height:', min=300, max=1000, step=10)\n",
    "submit_button = widgets.Button(description='Submit')\n",
    "\n",
    "# Link the button to the function\n",
    "submit_button.on_click(on_submit)\n",
    "\n",
    "# Display widgets\n",
    "display(password_widget, name_widget, width_widget, height_widget, submit_button)\n"
   ]
  },
  {
   "cell_type": "markdown",
   "id": "2bb80c60",
   "metadata": {},
   "source": [
    "#\n",
    "\n",
    "#\n",
    "\n",
    "#\n",
    "\n"
   ]
  }
 ],
 "metadata": {
  "kernelspec": {
   "display_name": "Python 3 (ipykernel)",
   "language": "python",
   "name": "python3"
  },
  "language_info": {
   "codemirror_mode": {
    "name": "ipython",
    "version": 3
   },
   "file_extension": ".py",
   "mimetype": "text/x-python",
   "name": "python",
   "nbconvert_exporter": "python",
   "pygments_lexer": "ipython3",
   "version": "3.11.5"
  }
 },
 "nbformat": 4,
 "nbformat_minor": 5
}
