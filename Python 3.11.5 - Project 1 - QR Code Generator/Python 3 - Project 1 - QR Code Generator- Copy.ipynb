{
  "cells": [
    {
      "cell_type": "markdown",
      "source": [
        "# **Project 1:**\n",
        "# **Converting a Link Into It's QR Code Using Python3 (3.11.5) Libraries:**\n",
        "\n",
        "| Prepared by: | Rayyan Ahmed.\n",
        "|----------|----------------------------------------------------|\n",
        "| Date: | 6th Aug, 2024"
      ],
      "metadata": {
        "id": "3846f019"
      },
      "id": "3846f019"
    },
    {
      "cell_type": "markdown",
      "source": [
        "### **Version:**"
      ],
      "metadata": {
        "id": "fd463986"
      },
      "id": "fd463986"
    },
    {
      "cell_type": "code",
      "execution_count": 2,
      "id": "3fda795e",
      "metadata": {
        "id": "3fda795e",
        "outputId": "817ff829-08a7-47fa-9466-ffef8b0f4449",
        "colab": {
          "base_uri": "https://localhost:8080/",
          "height": 35
        }
      },
      "outputs": [
        {
          "output_type": "execute_result",
          "data": {
            "text/plain": [
              "'3.10.12 (main, Jul 29 2024, 16:56:48) [GCC 11.4.0]'"
            ],
            "application/vnd.google.colaboratory.intrinsic+json": {
              "type": "string"
            }
          },
          "metadata": {},
          "execution_count": 2
        }
      ],
      "source": [
        "import sys\n",
        "sys.version"
      ]
    },
    {
      "cell_type": "markdown",
      "source": [
        "### **Installation:**"
      ],
      "metadata": {
        "id": "7f695aac"
      },
      "id": "7f695aac"
    },
    {
      "cell_type": "code",
      "execution_count": 4,
      "id": "65299cc6",
      "metadata": {
        "id": "65299cc6",
        "outputId": "0d1c277d-b1f8-4a23-e5f8-62bd64cb4548",
        "colab": {
          "base_uri": "https://localhost:8080/"
        }
      },
      "outputs": [
        {
          "output_type": "stream",
          "name": "stdout",
          "text": [
            "Collecting qrcode[pil]\n",
            "  Downloading qrcode-7.4.2-py3-none-any.whl.metadata (17 kB)\n",
            "Requirement already satisfied: typing-extensions in /usr/local/lib/python3.10/dist-packages (from qrcode[pil]) (4.12.2)\n",
            "Collecting pypng (from qrcode[pil])\n",
            "  Downloading pypng-0.20220715.0-py3-none-any.whl.metadata (13 kB)\n",
            "Requirement already satisfied: pillow>=9.1.0 in /usr/local/lib/python3.10/dist-packages (from qrcode[pil]) (9.4.0)\n",
            "Downloading pypng-0.20220715.0-py3-none-any.whl (58 kB)\n",
            "\u001b[2K   \u001b[90m━━━━━━━━━━━━━━━━━━━━━━━━━━━━━━━━━━━━━━━━\u001b[0m \u001b[32m58.1/58.1 kB\u001b[0m \u001b[31m3.5 MB/s\u001b[0m eta \u001b[36m0:00:00\u001b[0m\n",
            "\u001b[?25hDownloading qrcode-7.4.2-py3-none-any.whl (46 kB)\n",
            "\u001b[2K   \u001b[90m━━━━━━━━━━━━━━━━━━━━━━━━━━━━━━━━━━━━━━━━\u001b[0m \u001b[32m46.2/46.2 kB\u001b[0m \u001b[31m3.4 MB/s\u001b[0m eta \u001b[36m0:00:00\u001b[0m\n",
            "\u001b[?25hInstalling collected packages: pypng, qrcode\n",
            "Successfully installed pypng-0.20220715.0 qrcode-7.4.2\n"
          ]
        }
      ],
      "source": [
        "pip install qrcode[pil]"
      ]
    },
    {
      "cell_type": "markdown",
      "source": [
        "### **Basic Code:**"
      ],
      "metadata": {
        "id": "WCyc75VvvQH3"
      },
      "id": "WCyc75VvvQH3"
    },
    {
      "cell_type": "code",
      "source": [
        "import qrcode"
      ],
      "metadata": {
        "id": "9-jjaUdgu8sq"
      },
      "id": "9-jjaUdgu8sq",
      "execution_count": 5,
      "outputs": []
    },
    {
      "cell_type": "code",
      "source": [
        "import qrcode\n",
        "from IPython.display import Image, display\n",
        "\n",
        "# Create a QRCode object\n",
        "qr = qrcode.QRCode(version=15, box_size=10, border=5)\n",
        "\n",
        "# Data to encode in the QR code\n",
        "data = 'https://www.youtube.com/watch?v=unFF09PoGkA'\n",
        "\n",
        "# Add data to the QR code\n",
        "qr.add_data(data)\n",
        "qr.make(fit=True)\n",
        "\n",
        "# Generate the QR code image\n",
        "img = qr.make_image(fill=\"black\", back_color=\"white\")\n",
        "\n",
        "# Save the QR code image to a file\n",
        "img.save('text.png')\n",
        "\n",
        "# Display the image in Colab\n",
        "display(Image('text.png'))"
      ],
      "metadata": {
        "id": "M7TdiAPjvYL8",
        "outputId": "1da37f90-c6f4-4b59-835a-fabfec49ed8e",
        "colab": {
          "base_uri": "https://localhost:8080/",
          "height": 887
        }
      },
      "id": "M7TdiAPjvYL8",
      "execution_count": 6,
      "outputs": [
        {
          "output_type": "display_data",
          "data": {
            "image/png": "[encoded data removed]",
            "text/plain": [
              "<IPython.core.display.Image object>"
            ]
          },
          "metadata": {}
        }
      ]
    },
    {
      "cell_type": "markdown",
      "source": [
        "### **QRCode Generator Program:**"
      ],
      "metadata": {
        "id": "2f_ut_oWvUYK"
      },
      "id": "2f_ut_oWvUYK"
    },
    {
      "cell_type": "code",
      "source": [
        "import qrcode\n",
        "from IPython.display import Image, display\n",
        "\n",
        "# Welcome message and password prompt\n",
        "line = ' Welcome to \"Python3 Based QR Code Generator\" '\n",
        "print('-' * 41 + line + '-' * 40)\n",
        "print('\\n' + '\\t\\t\\t\\t\\t' + '-' * 10 + ' Prepared by \"Rayyan Ahmed\" ' + '-' * 10 + '\\t\\t\\t\\t')\n",
        "\n",
        "password = 'Free Palestine'\n",
        "pass_ = input('\\nEnter your password: ')\n",
        "\n",
        "if pass_ == password:\n",
        "\n",
        "    try:\n",
        "        print('Access Granted!\\nMost welcome to Program!')\n",
        "        # Get version input and validate it\n",
        "        version_ = int(input('\\nEnter the version (1-40): '))\n",
        "\n",
        "        if 1 <= version_ <= 40:\n",
        "\n",
        "            # Get box size input and validate it\n",
        "            bsize = int(input('Enter box size (1-20): '))\n",
        "\n",
        "            if 1 <= bsize <= 20:\n",
        "\n",
        "                # Get border input and validate it\n",
        "                border_ = int(input('\\nEnter border (qr code standard is 4): '))\n",
        "\n",
        "                if border_ > 0:\n",
        "\n",
        "                    # Get link data input\n",
        "                    data = str(input('\\nEnter your link: '))\n",
        "\n",
        "                    # Create QR code object\n",
        "                    qr = qrcode.QRCode(version=version_, box_size=bsize, border=border_)\n",
        "                    qr.add_data(data)\n",
        "                    qr.make(fit=True)\n",
        "\n",
        "                    # Define color lists with hex codes\n",
        "                    fill_colors = {\n",
        "                        \"black\": \"#000000\", \"white\": \"#FFFFFF\", \"red\": \"#FF0000\", \"green\": \"#00FF00\",\n",
        "                        \"blue\": \"#0000FF\", \"yellow\": \"#FFFF00\", \"cyan\": \"#00FFFF\", \"magenta\": \"#FF00FF\",\n",
        "                        \"gray\": \"#808080\", \"darkgray\": \"#A9A9A9\", \"lightgray\": \"#D3D3D3\", \"brown\": \"#A52A2A\",\n",
        "                        \"orange\": \"#FFA500\", \"purple\": \"#800080\", \"pink\": \"#FFC0CB\", \"lime\": \"#00FF00\",\n",
        "                        \"teal\": \"#008080\", \"navy\": \"#000080\", \"maroon\": \"#800000\", \"olive\": \"#808000\",\n",
        "                        \"beige\": \"#F5F5DC\", \"silver\": \"#C0C0C0\", \"gold\": \"#FFD700\"\n",
        "                    }\n",
        "\n",
        "                    # Get fill color input and validate it\n",
        "                    fill_ = str(input(f\"\\nEnter QR Code's color (e.g., 'black', 'red'):\\n\\nYou have a variety of colors:\\n\\n{', '.join(fill_colors.keys())}\\n\\nEnter color: \"))\n",
        "\n",
        "                    if fill_ in fill_colors:\n",
        "\n",
        "                        # Get background color input and validate it\n",
        "                        backcolor = str(input(f'Enter the background color (e.g., \"white\", \"blue\"):\\n\\nYou have a variety of colors:\\n\\n{\", \".join(fill_colors.keys())}\\n\\nEnter background: '))\n",
        "\n",
        "                        if backcolor in fill_colors:\n",
        "\n",
        "                            # Create and save QR code image with colors\n",
        "                            img = qr.make_image(fill=fill_colors[fill_], back_color=fill_colors[backcolor])\n",
        "                            imgname = str(input('\\nEnter name by which you want to save QR Code Image: '))\n",
        "                            img.save(f'{imgname}.png')\n",
        "\n",
        "                            # Display the image in Colab\n",
        "                            display(Image(filename=f'{imgname}.png'))\n",
        "\n",
        "                        else:\n",
        "                            print('Enter a valid background color from the given list, please!')\n",
        "\n",
        "                    else:\n",
        "                        print(\"\\nPlease enter a valid fill color from the given list of colors!\")\n",
        "\n",
        "                else:\n",
        "                    print('\\nEnter a correct border (positive integer) please!')\n",
        "\n",
        "            else:\n",
        "                print('\\nEnter a correct box size (1-20) please!')\n",
        "\n",
        "        else:\n",
        "            print('\\nEnter a correct version (1-40) please!')\n",
        "\n",
        "    except Exception as e:\n",
        "        print(f'Error: {e}\\nEnter valid input please!\\nDear user! Enter input according to given instructions.')\n",
        "\n",
        "else:\n",
        "    print('\\nIncorrect Password!\\nAccess Denied!')\n"
      ],
      "metadata": {
        "id": "owxXwujPvwDe",
        "outputId": "e08c80ed-9671-40bc-91a7-199ccd4a43d2",
        "colab": {
          "base_uri": "https://localhost:8080/",
          "height": 1000
        }
      },
      "id": "owxXwujPvwDe",
      "execution_count": 12,
      "outputs": [
        {
          "name": "stdout",
          "output_type": "stream",
          "text": [
            "----------------------------------------- Welcome to \"Python3 Based QR Code Generator\" ----------------------------------------\n",
            "\n",
            "\t\t\t\t\t---------- Prepared by \"Rayyan Ahmed\" ----------\t\t\t\t\n",
            "\n",
            "Enter your password: Free Palestine\n",
            "Access Granted!\n",
            "Most welcome to Program!\n",
            "\n",
            "Enter the version (1-40): 15\n",
            "Enter box size (1-20): 7\n",
            "\n",
            "Enter border (qr code standard is 4): 4\n",
            "\n",
            "Enter your link: https://www.youtube.com/watch?v=unFF09PoGkA\n",
            "\n",
            "Enter QR Code's color (e.g., 'black', 'red'):\n",
            "\n",
            "You have a variety of colors:\n",
            "\n",
            "black, white, red, green, blue, yellow, cyan, magenta, gray, darkgray, lightgray, brown, orange, purple, pink, lime, teal, navy, maroon, olive, beige, silver, gold\n",
            "\n",
            "Enter color: blue\n",
            "Enter the background color (e.g., \"white\", \"blue\"):\n",
            "\n",
            "You have a variety of colors:\n",
            "\n",
            "black, white, red, green, blue, yellow, cyan, magenta, gray, darkgray, lightgray, brown, orange, purple, pink, lime, teal, navy, maroon, olive, beige, silver, gold\n",
            "\n",
            "Enter background: blue\n",
            "\n",
            "Enter name by which you want to save QR Code Image: myqrcode\n"
          ]
        },
        {
          "output_type": "display_data",
          "data": {
            "image/png": "[encoded data removed]",
            "text/plain": [
              "<IPython.core.display.Image object>"
            ]
          },
          "metadata": {}
        }
      ]
    },
    {
      "cell_type": "markdown",
      "source": [
        "### **QR Code Generator Program (Advanced Program):**"
      ],
      "metadata": {
        "id": "DUlnYPcKwSwG"
      },
      "id": "DUlnYPcKwSwG"
    },
    {
      "cell_type": "code",
      "source": [
        "import ipywidgets as widgets\n",
        "from IPython.display import display\n",
        "import qrcode\n",
        "from PIL import Image\n",
        "\n",
        "def generate_qr_code(button):\n",
        "    # Get inputs from widgets\n",
        "    password = 'Free Palestine'\n",
        "    user_password = password_widget.value\n",
        "\n",
        "    if user_password == password:\n",
        "\n",
        "        try:\n",
        "            print('Access Granted!\\nMost welcome to Program!')\n",
        "            version_ = version_widget.value\n",
        "            bsize = bsize_widget.value\n",
        "            border_ = border_widget.value\n",
        "            data = data_widget.value\n",
        "\n",
        "            if 1 <= version_ <= 40:\n",
        "                if 1 <= bsize <= 20:\n",
        "                    if border_ > 0:\n",
        "                        if data:\n",
        "                            qr = qrcode.QRCode(version=version_, box_size=bsize, border=border_)\n",
        "                            qr.add_data(data)\n",
        "                            qr.make(fit=True)\n",
        "\n",
        "                            fill_colors = {\n",
        "                                \"black\": \"#000000\", \"white\": \"#FFFFFF\", \"red\": \"#FF0000\", \"green\": \"#00FF00\",\n",
        "                                \"blue\": \"#0000FF\", \"yellow\": \"#FFFF00\", \"cyan\": \"#00FFFF\", \"magenta\": \"#FF00FF\",\n",
        "                                \"gray\": \"#808080\", \"darkgray\": \"#A9A9A9\", \"lightgray\": \"#D3D3D3\", \"brown\": \"#A52A2A\",\n",
        "                                \"orange\": \"#FFA500\", \"purple\": \"#800080\", \"pink\": \"#FFC0CB\", \"lime\": \"#00FF00\",\n",
        "                                \"teal\": \"#008080\", \"navy\": \"#000080\", \"maroon\": \"#800000\", \"olive\": \"#808000\",\n",
        "                                \"beige\": \"#F5F5DC\", \"silver\": \"#C0C0C0\", \"gold\": \"#FFD700\"\n",
        "                            }\n",
        "\n",
        "                            fill_ = fill_color_widget.value\n",
        "                            backcolor = back_color_widget.value\n",
        "\n",
        "                            if fill_ in fill_colors and backcolor in fill_colors:\n",
        "                                img = qr.make_image(fill=fill_colors[fill_], back_color=fill_colors[backcolor])\n",
        "                                imgname = img_name_widget.value\n",
        "                                img.save(f'{imgname}.png')\n",
        "                                img.show()\n",
        "                                output_widget.value = f'QR Code saved as {imgname}.png'\n",
        "                            else:\n",
        "                                output_widget.value = 'Please enter valid fill and background colors from the given list!'\n",
        "                        else:\n",
        "                            output_widget.value = 'Please enter a valid link!'\n",
        "                    else:\n",
        "                        output_widget.value = 'Enter a correct border (positive integer) please!'\n",
        "                else:\n",
        "                    output_widget.value = 'Enter a correct box size (1-20) please!'\n",
        "            else:\n",
        "                output_widget.value = 'Enter a correct version (1-40) please!'\n",
        "        except Exception as e:\n",
        "            output_widget.value = f'Error: {str(e)}'\n",
        "    else:\n",
        "        output_widget.value = 'Incorrect Password! Access Denied!'\n",
        "\n",
        "# Create widgets\n",
        "password_widget = widgets.Password(description='Password:')\n",
        "version_widget = widgets.IntSlider(value=1, min=1, max=40, step=1, description='Version:')\n",
        "bsize_widget = widgets.IntSlider(value=1, min=1, max=20, step=1, description='Box Size:')\n",
        "border_widget = widgets.IntSlider(value=4, min=1, max=10, step=1, description='Border:')\n",
        "data_widget = widgets.Text(description='Link:')\n",
        "fill_color_widget = widgets.Dropdown(\n",
        "    options=[\"black\", \"white\", \"red\", \"green\", \"blue\", \"yellow\", \"cyan\", \"magenta\", \"gray\", \"darkgray\", \"lightgray\", \"brown\", \"orange\", \"purple\", \"pink\", \"lime\", \"teal\", \"navy\", \"maroon\", \"olive\", \"beige\", \"silver\", \"gold\"],\n",
        "    value=\"black\",\n",
        "    description='Fill Color:'\n",
        ")\n",
        "back_color_widget = widgets.Dropdown(\n",
        "    options=[\"black\", \"white\", \"red\", \"green\", \"blue\", \"yellow\", \"cyan\", \"magenta\", \"gray\", \"darkgray\", \"lightgray\", \"brown\", \"orange\", \"purple\", \"pink\", \"lime\", \"teal\", \"navy\", \"maroon\", \"olive\", \"beige\", \"silver\", \"gold\"],\n",
        "    value=\"white\",\n",
        "    description='Back Color:'\n",
        ")\n",
        "img_name_widget = widgets.Text(description='Image Name:')\n",
        "output_widget = widgets.Output()\n",
        "\n",
        "# Create button\n",
        "button = widgets.Button(description=\"Generate QR Code\")\n",
        "button.on_click(generate_qr_code)\n",
        "\n",
        "# Display widgets\n",
        "display(password_widget, version_widget, bsize_widget, border_widget, data_widget, fill_color_widget, back_color_widget, img_name_widget, button, output_widget)\n",
        "\n",
        "\n",
        "# running this code in jupyter notebook will automatically open the qrcode in png file"
      ],
      "metadata": {
        "id": "HV8TvN4uwVgq",
        "outputId": "5b358541-102b-465f-ce96-91139002f649",
        "colab": {
          "base_uri": "https://localhost:8080/",
          "height": 326,
          "referenced_widgets": [
            "0d647c969389411f9aed852396db5dd9",
            "d7726dd2c40c44baa590f8a60b7c8b93",
            "c5f4aff33ecf4624853c23259468e1d4",
            "a805c7f4d220451dbaaa13e823142d5d",
            "670307e3b0c749b7877d53ec9b4a5512",
            "f67a93bff31d4502baf117572181cecf",
            "b3c4c6150b424d7392e2b146d19f693a",
            "6dcef443c29545a28170fa84d047994a",
            "7e4951a7acf240c68687f5ab6291b19e",
            "dceb4e8d702444b39308109e5f8c0e4a",
            "fa678c536aba43269cf12c54afbd68b6",
            "b86af986e63849c7a06380b11da44177",
            "d94eb2763cfe48fbaf73d2cc504097e9",
            "a4a2454162614fc8b452c5ab1a39dd4d",
            "69a2851f860a4d5d943765e6eea389d3",
            "a26e500cae8e44f7a3fc3e2181d6418b",
            "64f8cf8bb0224e97b1950fbc7403d43b",
            "90d0cbd716464cee9591c83faf82ff68",
            "befd9b30b49b4d468410fa015422fe02",
            "e2cd1b33fd7f4e0abf83d46cc1655f1b",
            "13f6074ae9b146fd8dbc209df14a7391",
            "d394bbc803d8495c817b6a47f96127b3",
            "d26753f4995d4e01aef63d64d18a6839",
            "f4f43e2f39dc4ca7bf1cd358845e28b3",
            "6942124a9d8948eabf0083c03485d508",
            "714b61171f024fa3b794c09af2490db6",
            "61f588f7c7c14eb995e77a04987de9d8",
            "453442e102514fa8b010ceba4a32cf9f",
            "dc896cb8b3e44818b13e77448218f373"
          ]
        }
      },
      "id": "HV8TvN4uwVgq",
      "execution_count": 9,
      "outputs": [
        {
          "output_type": "display_data",
          "data": {
            "text/plain": [
              "Password(description='Password:')"
            ],
            "application/vnd.jupyter.widget-view+json": {
              "version_major": 2,
              "version_minor": 0,
              "model_id": "0d647c969389411f9aed852396db5dd9"
            }
          },
          "metadata": {}
        },
        {
          "output_type": "display_data",
          "data": {
            "text/plain": [
              "IntSlider(value=1, description='Version:', max=40, min=1)"
            ],
            "application/vnd.jupyter.widget-view+json": {
              "version_major": 2,
              "version_minor": 0,
              "model_id": "a805c7f4d220451dbaaa13e823142d5d"
            }
          },
          "metadata": {}
        },
        {
          "output_type": "display_data",
          "data": {
            "text/plain": [
              "IntSlider(value=1, description='Box Size:', max=20, min=1)"
            ],
            "application/vnd.jupyter.widget-view+json": {
              "version_major": 2,
              "version_minor": 0,
              "model_id": "b3c4c6150b424d7392e2b146d19f693a"
            }
          },
          "metadata": {}
        },
        {
          "output_type": "display_data",
          "data": {
            "text/plain": [
              "IntSlider(value=4, description='Border:', max=10, min=1)"
            ],
            "application/vnd.jupyter.widget-view+json": {
              "version_major": 2,
              "version_minor": 0,
              "model_id": "dceb4e8d702444b39308109e5f8c0e4a"
            }
          },
          "metadata": {}
        },
        {
          "output_type": "display_data",
          "data": {
            "text/plain": [
              "Text(value='', description='Link:')"
            ],
            "application/vnd.jupyter.widget-view+json": {
              "version_major": 2,
              "version_minor": 0,
              "model_id": "d94eb2763cfe48fbaf73d2cc504097e9"
            }
          },
          "metadata": {}
        },
        {
          "output_type": "display_data",
          "data": {
            "text/plain": [
              "Dropdown(description='Fill Color:', options=('black', 'white', 'red', 'green', 'blue', 'yellow', 'cyan', 'mage…"
            ],
            "application/vnd.jupyter.widget-view+json": {
              "version_major": 2,
              "version_minor": 0,
              "model_id": "a26e500cae8e44f7a3fc3e2181d6418b"
            }
          },
          "metadata": {}
        },
        {
          "output_type": "display_data",
          "data": {
            "text/plain": [
              "Dropdown(description='Back Color:', index=1, options=('black', 'white', 'red', 'green', 'blue', 'yellow', 'cya…"
            ],
            "application/vnd.jupyter.widget-view+json": {
              "version_major": 2,
              "version_minor": 0,
              "model_id": "befd9b30b49b4d468410fa015422fe02"
            }
          },
          "metadata": {}
        },
        {
          "output_type": "display_data",
          "data": {
            "text/plain": [
              "Text(value='', description='Image Name:')"
            ],
            "application/vnd.jupyter.widget-view+json": {
              "version_major": 2,
              "version_minor": 0,
              "model_id": "d394bbc803d8495c817b6a47f96127b3"
            }
          },
          "metadata": {}
        },
        {
          "output_type": "display_data",
          "data": {
            "text/plain": [
              "Button(description='Generate QR Code', style=ButtonStyle())"
            ],
            "application/vnd.jupyter.widget-view+json": {
              "version_major": 2,
              "version_minor": 0,
              "model_id": "6942124a9d8948eabf0083c03485d508"
            }
          },
          "metadata": {}
        },
        {
          "output_type": "display_data",
          "data": {
            "text/plain": [
              "Output()"
            ],
            "application/vnd.jupyter.widget-view+json": {
              "version_major": 2,
              "version_minor": 0,
              "model_id": "453442e102514fa8b010ceba4a32cf9f"
            }
          },
          "metadata": {}
        },
        {
          "output_type": "stream",
          "name": "stdout",
          "text": [
            "Access Granted!\n",
            "Most welcome to Program!\n"
          ]
        }
      ]
    },
    {
      "cell_type": "markdown",
      "source": [
        "![image.png](data:image/png;base64,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)"
      ],
      "metadata": {
        "id": "2tMmipafxmyw"
      },
      "id": "2tMmipafxmyw"
    },
    {
      "cell_type": "code",
      "source": [],
      "metadata": {
        "id": "Or15NcmsxpRg"
      },
      "id": "Or15NcmsxpRg",
      "execution_count": null,
      "outputs": []
    }
  ],
  "metadata": {
    "kernelspec": {
      "display_name": "Python 3 (ipykernel)",
      "language": "python",
      "name": "python3"
    },
    "language_info": {
      "codemirror_mode": {
        "name": "ipython",
        "version": 3
      },
      "file_extension": ".py",
      "mimetype": "text/x-python",
      "name": "python",
      "nbconvert_exporter": "python",
      "pygments_lexer": "ipython3",
      "version": "3.11.5"
    },
    "colab": {
      "provenance": []
    },
    "widgets": {
      "application/vnd.jupyter.widget-state+json": {
        "0d647c969389411f9aed852396db5dd9": {
          "model_module": "@jupyter-widgets/controls",
          "model_name": "PasswordModel",
          "model_module_version": "1.5.0",
          "state": {
            "_dom_classes": [],
            "_model_module": "@jupyter-widgets/controls",
            "_model_module_version": "1.5.0",
            "_model_name": "PasswordModel",
            "_view_count": null,
            "_view_module": "@jupyter-widgets/controls",
            "_view_module_version": "1.5.0",
            "_view_name": "PasswordView",
            "continuous_update": true,
            "description": "Password:",
            "description_tooltip": null,
            "disabled": false,
            "layout": "IPY_MODEL_d7726dd2c40c44baa590f8a60b7c8b93",
            "placeholder": "​",
            "style": "IPY_MODEL_c5f4aff33ecf4624853c23259468e1d4",
            "value": "Free Palestine"
          }
        },
        "d7726dd2c40c44baa590f8a60b7c8b93": {
          "model_module": "@jupyter-widgets/base",
          "model_name": "LayoutModel",
          "model_module_version": "1.2.0",
          "state": {
            "_model_module": "@jupyter-widgets/base",
            "_model_module_version": "1.2.0",
            "_model_name": "LayoutModel",
            "_view_count": null,
            "_view_module": "@jupyter-widgets/base",
            "_view_module_version": "1.2.0",
            "_view_name": "LayoutView",
            "align_content": null,
            "align_items": null,
            "align_self": null,
            "border": null,
            "bottom": null,
            "display": null,
            "flex": null,
            "flex_flow": null,
            "grid_area": null,
            "grid_auto_columns": null,
            "grid_auto_flow": null,
            "grid_auto_rows": null,
            "grid_column": null,
            "grid_gap": null,
            "grid_row": null,
            "grid_template_areas": null,
            "grid_template_columns": null,
            "grid_template_rows": null,
            "height": null,
            "justify_content": null,
            "justify_items": null,
            "left": null,
            "margin": null,
            "max_height": null,
            "max_width": null,
            "min_height": null,
            "min_width": null,
            "object_fit": null,
            "object_position": null,
            "order": null,
            "overflow": null,
            "overflow_x": null,
            "overflow_y": null,
            "padding": null,
            "right": null,
            "top": null,
            "visibility": null,
            "width": null
          }
        },
        "c5f4aff33ecf4624853c23259468e1d4": {
          "model_module": "@jupyter-widgets/controls",
          "model_name": "DescriptionStyleModel",
          "model_module_version": "1.5.0",
          "state": {
            "_model_module": "@jupyter-widgets/controls",
            "_model_module_version": "1.5.0",
            "_model_name": "DescriptionStyleModel",
            "_view_count": null,
            "_view_module": "@jupyter-widgets/base",
            "_view_module_version": "1.2.0",
            "_view_name": "StyleView",
            "description_width": ""
          }
        },
        "a805c7f4d220451dbaaa13e823142d5d": {
          "model_module": "@jupyter-widgets/controls",
          "model_name": "IntSliderModel",
          "model_module_version": "1.5.0",
          "state": {
            "_dom_classes": [],
            "_model_module": "@jupyter-widgets/controls",
            "_model_module_version": "1.5.0",
            "_model_name": "IntSliderModel",
            "_view_count": null,
            "_view_module": "@jupyter-widgets/controls",
            "_view_module_version": "1.5.0",
            "_view_name": "IntSliderView",
            "continuous_update": true,
            "description": "Version:",
            "description_tooltip": null,
            "disabled": false,
            "layout": "IPY_MODEL_670307e3b0c749b7877d53ec9b4a5512",
            "max": 40,
            "min": 1,
            "orientation": "horizontal",
            "readout": true,
            "readout_format": "d",
            "step": 1,
            "style": "IPY_MODEL_f67a93bff31d4502baf117572181cecf",
            "value": 15
          }
        },
        "670307e3b0c749b7877d53ec9b4a5512": {
          "model_module": "@jupyter-widgets/base",
          "model_name": "LayoutModel",
          "model_module_version": "1.2.0",
          "state": {
            "_model_module": "@jupyter-widgets/base",
            "_model_module_version": "1.2.0",
            "_model_name": "LayoutModel",
            "_view_count": null,
            "_view_module": "@jupyter-widgets/base",
            "_view_module_version": "1.2.0",
            "_view_name": "LayoutView",
            "align_content": null,
            "align_items": null,
            "align_self": null,
            "border": null,
            "bottom": null,
            "display": null,
            "flex": null,
            "flex_flow": null,
            "grid_area": null,
            "grid_auto_columns": null,
            "grid_auto_flow": null,
            "grid_auto_rows": null,
            "grid_column": null,
            "grid_gap": null,
            "grid_row": null,
            "grid_template_areas": null,
            "grid_template_columns": null,
            "grid_template_rows": null,
            "height": null,
            "justify_content": null,
            "justify_items": null,
            "left": null,
            "margin": null,
            "max_height": null,
            "max_width": null,
            "min_height": null,
            "min_width": null,
            "object_fit": null,
            "object_position": null,
            "order": null,
            "overflow": null,
            "overflow_x": null,
            "overflow_y": null,
            "padding": null,
            "right": null,
            "top": null,
            "visibility": null,
            "width": null
          }
        },
        "f67a93bff31d4502baf117572181cecf": {
          "model_module": "@jupyter-widgets/controls",
          "model_name": "SliderStyleModel",
          "model_module_version": "1.5.0",
          "state": {
            "_model_module": "@jupyter-widgets/controls",
            "_model_module_version": "1.5.0",
            "_model_name": "SliderStyleModel",
            "_view_count": null,
            "_view_module": "@jupyter-widgets/base",
            "_view_module_version": "1.2.0",
            "_view_name": "StyleView",
            "description_width": "",
            "handle_color": null
          }
        },
        "b3c4c6150b424d7392e2b146d19f693a": {
          "model_module": "@jupyter-widgets/controls",
          "model_name": "IntSliderModel",
          "model_module_version": "1.5.0",
          "state": {
            "_dom_classes": [],
            "_model_module": "@jupyter-widgets/controls",
            "_model_module_version": "1.5.0",
            "_model_name": "IntSliderModel",
            "_view_count": null,
            "_view_module": "@jupyter-widgets/controls",
            "_view_module_version": "1.5.0",
            "_view_name": "IntSliderView",
            "continuous_update": true,
            "description": "Box Size:",
            "description_tooltip": null,
            "disabled": false,
            "layout": "IPY_MODEL_6dcef443c29545a28170fa84d047994a",
            "max": 20,
            "min": 1,
            "orientation": "horizontal",
            "readout": true,
            "readout_format": "d",
            "step": 1,
            "style": "IPY_MODEL_7e4951a7acf240c68687f5ab6291b19e",
            "value": 8
          }
        },
        "6dcef443c29545a28170fa84d047994a": {
          "model_module": "@jupyter-widgets/base",
          "model_name": "LayoutModel",
          "model_module_version": "1.2.0",
          "state": {
            "_model_module": "@jupyter-widgets/base",
            "_model_module_version": "1.2.0",
            "_model_name": "LayoutModel",
            "_view_count": null,
            "_view_module": "@jupyter-widgets/base",
            "_view_module_version": "1.2.0",
            "_view_name": "LayoutView",
            "align_content": null,
            "align_items": null,
            "align_self": null,
            "border": null,
            "bottom": null,
            "display": null,
            "flex": null,
            "flex_flow": null,
            "grid_area": null,
            "grid_auto_columns": null,
            "grid_auto_flow": null,
            "grid_auto_rows": null,
            "grid_column": null,
            "grid_gap": null,
            "grid_row": null,
            "grid_template_areas": null,
            "grid_template_columns": null,
            "grid_template_rows": null,
            "height": null,
            "justify_content": null,
            "justify_items": null,
            "left": null,
            "margin": null,
            "max_height": null,
            "max_width": null,
            "min_height": null,
            "min_width": null,
            "object_fit": null,
            "object_position": null,
            "order": null,
            "overflow": null,
            "overflow_x": null,
            "overflow_y": null,
            "padding": null,
            "right": null,
            "top": null,
            "visibility": null,
            "width": null
          }
        },
        "7e4951a7acf240c68687f5ab6291b19e": {
          "model_module": "@jupyter-widgets/controls",
          "model_name": "SliderStyleModel",
          "model_module_version": "1.5.0",
          "state": {
            "_model_module": "@jupyter-widgets/controls",
            "_model_module_version": "1.5.0",
            "_model_name": "SliderStyleModel",
            "_view_count": null,
            "_view_module": "@jupyter-widgets/base",
            "_view_module_version": "1.2.0",
            "_view_name": "StyleView",
            "description_width": "",
            "handle_color": null
          }
        },
        "dceb4e8d702444b39308109e5f8c0e4a": {
          "model_module": "@jupyter-widgets/controls",
          "model_name": "IntSliderModel",
          "model_module_version": "1.5.0",
          "state": {
            "_dom_classes": [],
            "_model_module": "@jupyter-widgets/controls",
            "_model_module_version": "1.5.0",
            "_model_name": "IntSliderModel",
            "_view_count": null,
            "_view_module": "@jupyter-widgets/controls",
            "_view_module_version": "1.5.0",
            "_view_name": "IntSliderView",
            "continuous_update": true,
            "description": "Border:",
            "description_tooltip": null,
            "disabled": false,
            "layout": "IPY_MODEL_fa678c536aba43269cf12c54afbd68b6",
            "max": 10,
            "min": 1,
            "orientation": "horizontal",
            "readout": true,
            "readout_format": "d",
            "step": 1,
            "style": "IPY_MODEL_b86af986e63849c7a06380b11da44177",
            "value": 4
          }
        },
        "fa678c536aba43269cf12c54afbd68b6": {
          "model_module": "@jupyter-widgets/base",
          "model_name": "LayoutModel",
          "model_module_version": "1.2.0",
          "state": {
            "_model_module": "@jupyter-widgets/base",
            "_model_module_version": "1.2.0",
            "_model_name": "LayoutModel",
            "_view_count": null,
            "_view_module": "@jupyter-widgets/base",
            "_view_module_version": "1.2.0",
            "_view_name": "LayoutView",
            "align_content": null,
            "align_items": null,
            "align_self": null,
            "border": null,
            "bottom": null,
            "display": null,
            "flex": null,
            "flex_flow": null,
            "grid_area": null,
            "grid_auto_columns": null,
            "grid_auto_flow": null,
            "grid_auto_rows": null,
            "grid_column": null,
            "grid_gap": null,
            "grid_row": null,
            "grid_template_areas": null,
            "grid_template_columns": null,
            "grid_template_rows": null,
            "height": null,
            "justify_content": null,
            "justify_items": null,
            "left": null,
            "margin": null,
            "max_height": null,
            "max_width": null,
            "min_height": null,
            "min_width": null,
            "object_fit": null,
            "object_position": null,
            "order": null,
            "overflow": null,
            "overflow_x": null,
            "overflow_y": null,
            "padding": null,
            "right": null,
            "top": null,
            "visibility": null,
            "width": null
          }
        },
        "b86af986e63849c7a06380b11da44177": {
          "model_module": "@jupyter-widgets/controls",
          "model_name": "SliderStyleModel",
          "model_module_version": "1.5.0",
          "state": {
            "_model_module": "@jupyter-widgets/controls",
            "_model_module_version": "1.5.0",
            "_model_name": "SliderStyleModel",
            "_view_count": null,
            "_view_module": "@jupyter-widgets/base",
            "_view_module_version": "1.2.0",
            "_view_name": "StyleView",
            "description_width": "",
            "handle_color": null
          }
        },
        "d94eb2763cfe48fbaf73d2cc504097e9": {
          "model_module": "@jupyter-widgets/controls",
          "model_name": "TextModel",
          "model_module_version": "1.5.0",
          "state": {
            "_dom_classes": [],
            "_model_module": "@jupyter-widgets/controls",
            "_model_module_version": "1.5.0",
            "_model_name": "TextModel",
            "_view_count": null,
            "_view_module": "@jupyter-widgets/controls",
            "_view_module_version": "1.5.0",
            "_view_name": "TextView",
            "continuous_update": true,
            "description": "Link:",
            "description_tooltip": null,
            "disabled": false,
            "layout": "IPY_MODEL_a4a2454162614fc8b452c5ab1a39dd4d",
            "placeholder": "​",
            "style": "IPY_MODEL_69a2851f860a4d5d943765e6eea389d3",
            "value": "https://www.youtube.com/watch?v=unFF09PoGkA"
          }
        },
        "a4a2454162614fc8b452c5ab1a39dd4d": {
          "model_module": "@jupyter-widgets/base",
          "model_name": "LayoutModel",
          "model_module_version": "1.2.0",
          "state": {
            "_model_module": "@jupyter-widgets/base",
            "_model_module_version": "1.2.0",
            "_model_name": "LayoutModel",
            "_view_count": null,
            "_view_module": "@jupyter-widgets/base",
            "_view_module_version": "1.2.0",
            "_view_name": "LayoutView",
            "align_content": null,
            "align_items": null,
            "align_self": null,
            "border": null,
            "bottom": null,
            "display": null,
            "flex": null,
            "flex_flow": null,
            "grid_area": null,
            "grid_auto_columns": null,
            "grid_auto_flow": null,
            "grid_auto_rows": null,
            "grid_column": null,
            "grid_gap": null,
            "grid_row": null,
            "grid_template_areas": null,
            "grid_template_columns": null,
            "grid_template_rows": null,
            "height": null,
            "justify_content": null,
            "justify_items": null,
            "left": null,
            "margin": null,
            "max_height": null,
            "max_width": null,
            "min_height": null,
            "min_width": null,
            "object_fit": null,
            "object_position": null,
            "order": null,
            "overflow": null,
            "overflow_x": null,
            "overflow_y": null,
            "padding": null,
            "right": null,
            "top": null,
            "visibility": null,
            "width": null
          }
        },
        "69a2851f860a4d5d943765e6eea389d3": {
          "model_module": "@jupyter-widgets/controls",
          "model_name": "DescriptionStyleModel",
          "model_module_version": "1.5.0",
          "state": {
            "_model_module": "@jupyter-widgets/controls",
            "_model_module_version": "1.5.0",
            "_model_name": "DescriptionStyleModel",
            "_view_count": null,
            "_view_module": "@jupyter-widgets/base",
            "_view_module_version": "1.2.0",
            "_view_name": "StyleView",
            "description_width": ""
          }
        },
        "a26e500cae8e44f7a3fc3e2181d6418b": {
          "model_module": "@jupyter-widgets/controls",
          "model_name": "DropdownModel",
          "model_module_version": "1.5.0",
          "state": {
            "_dom_classes": [],
            "_model_module": "@jupyter-widgets/controls",
            "_model_module_version": "1.5.0",
            "_model_name": "DropdownModel",
            "_options_labels": [
              "black",
              "white",
              "red",
              "green",
              "blue",
              "yellow",
              "cyan",
              "magenta",
              "gray",
              "darkgray",
              "lightgray",
              "brown",
              "orange",
              "purple",
              "pink",
              "lime",
              "teal",
              "navy",
              "maroon",
              "olive",
              "beige",
              "silver",
              "gold"
            ],
            "_view_count": null,
            "_view_module": "@jupyter-widgets/controls",
            "_view_module_version": "1.5.0",
            "_view_name": "DropdownView",
            "description": "Fill Color:",
            "description_tooltip": null,
            "disabled": false,
            "index": 2,
            "layout": "IPY_MODEL_64f8cf8bb0224e97b1950fbc7403d43b",
            "style": "IPY_MODEL_90d0cbd716464cee9591c83faf82ff68"
          }
        },
        "64f8cf8bb0224e97b1950fbc7403d43b": {
          "model_module": "@jupyter-widgets/base",
          "model_name": "LayoutModel",
          "model_module_version": "1.2.0",
          "state": {
            "_model_module": "@jupyter-widgets/base",
            "_model_module_version": "1.2.0",
            "_model_name": "LayoutModel",
            "_view_count": null,
            "_view_module": "@jupyter-widgets/base",
            "_view_module_version": "1.2.0",
            "_view_name": "LayoutView",
            "align_content": null,
            "align_items": null,
            "align_self": null,
            "border": null,
            "bottom": null,
            "display": null,
            "flex": null,
            "flex_flow": null,
            "grid_area": null,
            "grid_auto_columns": null,
            "grid_auto_flow": null,
            "grid_auto_rows": null,
            "grid_column": null,
            "grid_gap": null,
            "grid_row": null,
            "grid_template_areas": null,
            "grid_template_columns": null,
            "grid_template_rows": null,
            "height": null,
            "justify_content": null,
            "justify_items": null,
            "left": null,
            "margin": null,
            "max_height": null,
            "max_width": null,
            "min_height": null,
            "min_width": null,
            "object_fit": null,
            "object_position": null,
            "order": null,
            "overflow": null,
            "overflow_x": null,
            "overflow_y": null,
            "padding": null,
            "right": null,
            "top": null,
            "visibility": null,
            "width": null
          }
        },
        "90d0cbd716464cee9591c83faf82ff68": {
          "model_module": "@jupyter-widgets/controls",
          "model_name": "DescriptionStyleModel",
          "model_module_version": "1.5.0",
          "state": {
            "_model_module": "@jupyter-widgets/controls",
            "_model_module_version": "1.5.0",
            "_model_name": "DescriptionStyleModel",
            "_view_count": null,
            "_view_module": "@jupyter-widgets/base",
            "_view_module_version": "1.2.0",
            "_view_name": "StyleView",
            "description_width": ""
          }
        },
        "befd9b30b49b4d468410fa015422fe02": {
          "model_module": "@jupyter-widgets/controls",
          "model_name": "DropdownModel",
          "model_module_version": "1.5.0",
          "state": {
            "_dom_classes": [],
            "_model_module": "@jupyter-widgets/controls",
            "_model_module_version": "1.5.0",
            "_model_name": "DropdownModel",
            "_options_labels": [
              "black",
              "white",
              "red",
              "green",
              "blue",
              "yellow",
              "cyan",
              "magenta",
              "gray",
              "darkgray",
              "lightgray",
              "brown",
              "orange",
              "purple",
              "pink",
              "lime",
              "teal",
              "navy",
              "maroon",
              "olive",
              "beige",
              "silver",
              "gold"
            ],
            "_view_count": null,
            "_view_module": "@jupyter-widgets/controls",
            "_view_module_version": "1.5.0",
            "_view_name": "DropdownView",
            "description": "Back Color:",
            "description_tooltip": null,
            "disabled": false,
            "index": 2,
            "layout": "IPY_MODEL_e2cd1b33fd7f4e0abf83d46cc1655f1b",
            "style": "IPY_MODEL_13f6074ae9b146fd8dbc209df14a7391"
          }
        },
        "e2cd1b33fd7f4e0abf83d46cc1655f1b": {
          "model_module": "@jupyter-widgets/base",
          "model_name": "LayoutModel",
          "model_module_version": "1.2.0",
          "state": {
            "_model_module": "@jupyter-widgets/base",
            "_model_module_version": "1.2.0",
            "_model_name": "LayoutModel",
            "_view_count": null,
            "_view_module": "@jupyter-widgets/base",
            "_view_module_version": "1.2.0",
            "_view_name": "LayoutView",
            "align_content": null,
            "align_items": null,
            "align_self": null,
            "border": null,
            "bottom": null,
            "display": null,
            "flex": null,
            "flex_flow": null,
            "grid_area": null,
            "grid_auto_columns": null,
            "grid_auto_flow": null,
            "grid_auto_rows": null,
            "grid_column": null,
            "grid_gap": null,
            "grid_row": null,
            "grid_template_areas": null,
            "grid_template_columns": null,
            "grid_template_rows": null,
            "height": null,
            "justify_content": null,
            "justify_items": null,
            "left": null,
            "margin": null,
            "max_height": null,
            "max_width": null,
            "min_height": null,
            "min_width": null,
            "object_fit": null,
            "object_position": null,
            "order": null,
            "overflow": null,
            "overflow_x": null,
            "overflow_y": null,
            "padding": null,
            "right": null,
            "top": null,
            "visibility": null,
            "width": null
          }
        },
        "13f6074ae9b146fd8dbc209df14a7391": {
          "model_module": "@jupyter-widgets/controls",
          "model_name": "DescriptionStyleModel",
          "model_module_version": "1.5.0",
          "state": {
            "_model_module": "@jupyter-widgets/controls",
            "_model_module_version": "1.5.0",
            "_model_name": "DescriptionStyleModel",
            "_view_count": null,
            "_view_module": "@jupyter-widgets/base",
            "_view_module_version": "1.2.0",
            "_view_name": "StyleView",
            "description_width": ""
          }
        },
        "d394bbc803d8495c817b6a47f96127b3": {
          "model_module": "@jupyter-widgets/controls",
          "model_name": "TextModel",
          "model_module_version": "1.5.0",
          "state": {
            "_dom_classes": [],
            "_model_module": "@jupyter-widgets/controls",
            "_model_module_version": "1.5.0",
            "_model_name": "TextModel",
            "_view_count": null,
            "_view_module": "@jupyter-widgets/controls",
            "_view_module_version": "1.5.0",
            "_view_name": "TextView",
            "continuous_update": true,
            "description": "Image Name:",
            "description_tooltip": null,
            "disabled": false,
            "layout": "IPY_MODEL_d26753f4995d4e01aef63d64d18a6839",
            "placeholder": "​",
            "style": "IPY_MODEL_f4f43e2f39dc4ca7bf1cd358845e28b3",
            "value": "myqrcode"
          }
        },
        "d26753f4995d4e01aef63d64d18a6839": {
          "model_module": "@jupyter-widgets/base",
          "model_name": "LayoutModel",
          "model_module_version": "1.2.0",
          "state": {
            "_model_module": "@jupyter-widgets/base",
            "_model_module_version": "1.2.0",
            "_model_name": "LayoutModel",
            "_view_count": null,
            "_view_module": "@jupyter-widgets/base",
            "_view_module_version": "1.2.0",
            "_view_name": "LayoutView",
            "align_content": null,
            "align_items": null,
            "align_self": null,
            "border": null,
            "bottom": null,
            "display": null,
            "flex": null,
            "flex_flow": null,
            "grid_area": null,
            "grid_auto_columns": null,
            "grid_auto_flow": null,
            "grid_auto_rows": null,
            "grid_column": null,
            "grid_gap": null,
            "grid_row": null,
            "grid_template_areas": null,
            "grid_template_columns": null,
            "grid_template_rows": null,
            "height": null,
            "justify_content": null,
            "justify_items": null,
            "left": null,
            "margin": null,
            "max_height": null,
            "max_width": null,
            "min_height": null,
            "min_width": null,
            "object_fit": null,
            "object_position": null,
            "order": null,
            "overflow": null,
            "overflow_x": null,
            "overflow_y": null,
            "padding": null,
            "right": null,
            "top": null,
            "visibility": null,
            "width": null
          }
        },
        "f4f43e2f39dc4ca7bf1cd358845e28b3": {
          "model_module": "@jupyter-widgets/controls",
          "model_name": "DescriptionStyleModel",
          "model_module_version": "1.5.0",
          "state": {
            "_model_module": "@jupyter-widgets/controls",
            "_model_module_version": "1.5.0",
            "_model_name": "DescriptionStyleModel",
            "_view_count": null,
            "_view_module": "@jupyter-widgets/base",
            "_view_module_version": "1.2.0",
            "_view_name": "StyleView",
            "description_width": ""
          }
        },
        "6942124a9d8948eabf0083c03485d508": {
          "model_module": "@jupyter-widgets/controls",
          "model_name": "ButtonModel",
          "model_module_version": "1.5.0",
          "state": {
            "_dom_classes": [],
            "_model_module": "@jupyter-widgets/controls",
            "_model_module_version": "1.5.0",
            "_model_name": "ButtonModel",
            "_view_count": null,
            "_view_module": "@jupyter-widgets/controls",
            "_view_module_version": "1.5.0",
            "_view_name": "ButtonView",
            "button_style": "",
            "description": "Generate QR Code",
            "disabled": false,
            "icon": "",
            "layout": "IPY_MODEL_714b61171f024fa3b794c09af2490db6",
            "style": "IPY_MODEL_61f588f7c7c14eb995e77a04987de9d8",
            "tooltip": ""
          }
        },
        "714b61171f024fa3b794c09af2490db6": {
          "model_module": "@jupyter-widgets/base",
          "model_name": "LayoutModel",
          "model_module_version": "1.2.0",
          "state": {
            "_model_module": "@jupyter-widgets/base",
            "_model_module_version": "1.2.0",
            "_model_name": "LayoutModel",
            "_view_count": null,
            "_view_module": "@jupyter-widgets/base",
            "_view_module_version": "1.2.0",
            "_view_name": "LayoutView",
            "align_content": null,
            "align_items": null,
            "align_self": null,
            "border": null,
            "bottom": null,
            "display": null,
            "flex": null,
            "flex_flow": null,
            "grid_area": null,
            "grid_auto_columns": null,
            "grid_auto_flow": null,
            "grid_auto_rows": null,
            "grid_column": null,
            "grid_gap": null,
            "grid_row": null,
            "grid_template_areas": null,
            "grid_template_columns": null,
            "grid_template_rows": null,
            "height": null,
            "justify_content": null,
            "justify_items": null,
            "left": null,
            "margin": null,
            "max_height": null,
            "max_width": null,
            "min_height": null,
            "min_width": null,
            "object_fit": null,
            "object_position": null,
            "order": null,
            "overflow": null,
            "overflow_x": null,
            "overflow_y": null,
            "padding": null,
            "right": null,
            "top": null,
            "visibility": null,
            "width": null
          }
        },
        "61f588f7c7c14eb995e77a04987de9d8": {
          "model_module": "@jupyter-widgets/controls",
          "model_name": "ButtonStyleModel",
          "model_module_version": "1.5.0",
          "state": {
            "_model_module": "@jupyter-widgets/controls",
            "_model_module_version": "1.5.0",
            "_model_name": "ButtonStyleModel",
            "_view_count": null,
            "_view_module": "@jupyter-widgets/base",
            "_view_module_version": "1.2.0",
            "_view_name": "StyleView",
            "button_color": null,
            "font_weight": ""
          }
        },
        "453442e102514fa8b010ceba4a32cf9f": {
          "model_module": "@jupyter-widgets/output",
          "model_name": "OutputModel",
          "model_module_version": "1.0.0",
          "state": {
            "_dom_classes": [],
            "_model_module": "@jupyter-widgets/output",
            "_model_module_version": "1.0.0",
            "_model_name": "OutputModel",
            "_view_count": null,
            "_view_module": "@jupyter-widgets/output",
            "_view_module_version": "1.0.0",
            "_view_name": "OutputView",
            "layout": "IPY_MODEL_dc896cb8b3e44818b13e77448218f373",
            "msg_id": "",
            "outputs": []
          }
        },
        "dc896cb8b3e44818b13e77448218f373": {
          "model_module": "@jupyter-widgets/base",
          "model_name": "LayoutModel",
          "model_module_version": "1.2.0",
          "state": {
            "_model_module": "@jupyter-widgets/base",
            "_model_module_version": "1.2.0",
            "_model_name": "LayoutModel",
            "_view_count": null,
            "_view_module": "@jupyter-widgets/base",
            "_view_module_version": "1.2.0",
            "_view_name": "LayoutView",
            "align_content": null,
            "align_items": null,
            "align_self": null,
            "border": null,
            "bottom": null,
            "display": null,
            "flex": null,
            "flex_flow": null,
            "grid_area": null,
            "grid_auto_columns": null,
            "grid_auto_flow": null,
            "grid_auto_rows": null,
            "grid_column": null,
            "grid_gap": null,
            "grid_row": null,
            "grid_template_areas": null,
            "grid_template_columns": null,
            "grid_template_rows": null,
            "height": null,
            "justify_content": null,
            "justify_items": null,
            "left": null,
            "margin": null,
            "max_height": null,
            "max_width": null,
            "min_height": null,
            "min_width": null,
            "object_fit": null,
            "object_position": null,
            "order": null,
            "overflow": null,
            "overflow_x": null,
            "overflow_y": null,
            "padding": null,
            "right": null,
            "top": null,
            "visibility": null,
            "width": null
          }
        }
      }
    }
  },
  "nbformat": 4,
  "nbformat_minor": 5
}